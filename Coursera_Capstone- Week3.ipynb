{
 "cells": [
  {
   "cell_type": "markdown",
   "metadata": {},
   "source": [
    "Coursera_Capstone:Week3"
   ]
  },
  {
   "cell_type": "code",
   "execution_count": null,
   "metadata": {},
   "outputs": [],
   "source": [
    "import requests # library to handle requests\n",
    "import pandas as pd # library for data analsysis\n",
    "import numpy as np # library to handle data in a vectorized manner\n",
    "import random # library for random number generation\n",
    "\n",
    "!conda install -c conda-forge geopy --yes \n",
    "from geopy.geocoders import Nominatim # module to convert an address into latitude and longitude values\n",
    "\n",
    "# libraries for displaying images\n",
    "from IPython.display import Image \n",
    "from IPython.core.display import HTML \n",
    "    \n",
    "# tranforming json file into a pandas dataframe library\n",
    "from pandas.io.json import json_normalize\n",
    "\n",
    "!conda install -c conda-forge folium=0.5.0 --yes\n",
    "import folium # plotting library\n",
    "\n",
    "print('Folium installed')\n",
    "print('Libraries imported.')"
   ]
  },
  {
   "cell_type": "code",
   "execution_count": null,
   "metadata": {},
   "outputs": [],
   "source": [
    "#Installing Conda\n",
    "conda install -c anaconda beautifulsoup4"
   ]
  },
  {
   "cell_type": "code",
   "execution_count": null,
   "metadata": {},
   "outputs": [],
   "source": [
    "#Installing lxml\n",
    "conda install -c anaconda lxml"
   ]
  },
  {
   "cell_type": "code",
   "execution_count": null,
   "metadata": {},
   "outputs": [],
   "source": [
    "conda install -c anaconda requests\n"
   ]
  },
  {
   "cell_type": "code",
   "execution_count": null,
   "metadata": {},
   "outputs": [],
   "source": [
    "#Installing requests\n",
    "pip install requests"
   ]
  },
  {
   "cell_type": "code",
   "execution_count": 1,
   "metadata": {},
   "outputs": [],
   "source": [
    "import requests"
   ]
  },
  {
   "cell_type": "code",
   "execution_count": 2,
   "metadata": {},
   "outputs": [],
   "source": [
    "from bs4 import BeautifulSoup"
   ]
  },
  {
   "cell_type": "code",
   "execution_count": 3,
   "metadata": {},
   "outputs": [],
   "source": [
    "import pandas as pd\n",
    "import numpy as np\n",
    "import matplotlib.pyplot as plt\n",
    "import seaborn as sns\n",
    "%matplotlib inline"
   ]
  },
  {
   "cell_type": "code",
   "execution_count": 4,
   "metadata": {},
   "outputs": [],
   "source": [
    "from urllib.request import urlopen\n",
    "from bs4 import BeautifulSoup"
   ]
  },
  {
   "cell_type": "code",
   "execution_count": 5,
   "metadata": {},
   "outputs": [
    {
     "name": "stdout",
     "output_type": "stream",
     "text": [
      "<title>List of postal codes of Canada: M - Wikipedia</title>\n"
     ]
    }
   ],
   "source": [
    "url = 'https://en.wikipedia.org/wiki/List_of_postal_codes_of_Canada:_M'\n",
    "html = urlopen(url)\n",
    "\n",
    "soup = BeautifulSoup(html, 'lxml')\n",
    "type(soup)\n",
    "\n",
    "title = soup.title\n",
    "print(title)"
   ]
  },
  {
   "cell_type": "code",
   "execution_count": null,
   "metadata": {},
   "outputs": [],
   "source": [
    "# Print out the text\n",
    "text = soup.get_text()\n",
    "print(soup.text)"
   ]
  },
  {
   "cell_type": "code",
   "execution_count": null,
   "metadata": {},
   "outputs": [],
   "source": [
    "print(soup.prettify())"
   ]
  },
  {
   "cell_type": "code",
   "execution_count": null,
   "metadata": {},
   "outputs": [],
   "source": [
    "rows = soup.find_all('tr')\n",
    "#Postcode = soup.td.text\n",
    "print(rows[:10])"
   ]
  },
  {
   "cell_type": "code",
   "execution_count": null,
   "metadata": {},
   "outputs": [],
   "source": [
    "for row in rows:\n",
    "    row_td = row.find_all('td')\n",
    "print(row_td)\n",
    "#type(row_td)"
   ]
  },
  {
   "cell_type": "code",
   "execution_count": null,
   "metadata": {
    "scrolled": true
   },
   "outputs": [],
   "source": [
    "table_rows= soup.findAll('tr')\n",
    "#print(table_rows)\n",
    "\n",
    "for row in table_rows:\n",
    "    each_row= row.findAll('td')\n",
    "    #print(each_row)\n",
    "\n",
    "lists_of_rows = []\n",
    "for row in table_rows:\n",
    "    each_row= row.findAll('td')\n",
    "    str_row= str(each_row)\n",
    "    row_text = BeautifulSoup(str_row, \"lxml\").get_text()\n",
    "    lists_of_rows.append(row_text)\n",
    "#print(lists_of_rows)\n",
    "\n",
    "data = pd.DataFrame(lists_of_rows[5:])\n",
    "print(data)"
   ]
  },
  {
   "cell_type": "code",
   "execution_count": null,
   "metadata": {},
   "outputs": [],
   "source": [
    "#Cleaning Data\n",
    "df1 = data[0].str.split(',', expand=True)\n",
    "df1.head(10)\n"
   ]
  },
  {
   "cell_type": "code",
   "execution_count": null,
   "metadata": {},
   "outputs": [],
   "source": [
    "#Cleaning Data\n",
    "df1[0] = df1[0].str.strip('[')\n",
    "#df1.head(10)\n",
    "df1[0]"
   ]
  },
  {
   "cell_type": "code",
   "execution_count": null,
   "metadata": {},
   "outputs": [],
   "source": [
    "#Cleaning Data\n",
    "df1[2] = df1[2].str.strip(']')\n",
    "df1.head(10)"
   ]
  },
  {
   "cell_type": "code",
   "execution_count": null,
   "metadata": {},
   "outputs": [],
   "source": [
    "#Cleaning Data\n",
    "df1[2] = df1[2].str.strip('\\n')\n",
    "df1.head(10)\n",
    "\n",
    "DataValue = df1\n",
    "DataValue"
   ]
  },
  {
   "cell_type": "code",
   "execution_count": null,
   "metadata": {},
   "outputs": [],
   "source": [
    "DataValue"
   ]
  },
  {
   "cell_type": "code",
   "execution_count": null,
   "metadata": {},
   "outputs": [],
   "source": [
    "#Cleaning Data\n",
    "cols = [3]\n",
    "df2.drop(df2.columns[cols],axis=1,inplace=True)\n",
    "df2\n"
   ]
  },
  {
   "cell_type": "code",
   "execution_count": null,
   "metadata": {},
   "outputs": [],
   "source": [
    "df3=df2\n",
    "df3"
   ]
  },
  {
   "cell_type": "code",
   "execution_count": null,
   "metadata": {},
   "outputs": [],
   "source": [
    "#Cleaning Data\n",
    "df3[2] = df3[2].str.strip('\\n]')\n",
    "df3.head(10)"
   ]
  },
  {
   "cell_type": "code",
   "execution_count": 38,
   "metadata": {},
   "outputs": [
    {
     "data": {
      "text/plain": [
       "Int64Index([0, 1, 2], dtype='int64')"
      ]
     },
     "execution_count": 38,
     "metadata": {},
     "output_type": "execute_result"
    }
   ],
   "source": [
    "df3.columns"
   ]
  },
  {
   "cell_type": "code",
   "execution_count": 39,
   "metadata": {},
   "outputs": [
    {
     "data": {
      "text/plain": [
       "Int64Index([0, 1, 2], dtype='int64')"
      ]
     },
     "execution_count": 39,
     "metadata": {},
     "output_type": "execute_result"
    }
   ],
   "source": [
    "df3.columns"
   ]
  },
  {
   "cell_type": "code",
   "execution_count": 129,
   "metadata": {},
   "outputs": [
    {
     "data": {
      "text/plain": [
       "Index(['PostalCode', 'Borough', 'Neighbourhood'], dtype='object')"
      ]
     },
     "execution_count": 129,
     "metadata": {},
     "output_type": "execute_result"
    }
   ],
   "source": [
    "#Assiging columns\n",
    "df3.Int64Index = [0,1,2]\n",
    "df3.columns = ['PostalCode', 'Borough', 'Neighbourhood']\n",
    "df3.columns"
   ]
  },
  {
   "cell_type": "code",
   "execution_count": null,
   "metadata": {},
   "outputs": [],
   "source": [
    "df3"
   ]
  },
  {
   "cell_type": "code",
   "execution_count": null,
   "metadata": {},
   "outputs": [],
   "source": [
    "df4 = df3\n",
    "#Now we have data cleaned \n",
    "df4.drop(df4.index[[283]], inplace=True)\n",
    "df4"
   ]
  },
  {
   "cell_type": "code",
   "execution_count": 45,
   "metadata": {},
   "outputs": [
    {
     "data": {
      "text/html": [
       "<div>\n",
       "<style scoped>\n",
       "    .dataframe tbody tr th:only-of-type {\n",
       "        vertical-align: middle;\n",
       "    }\n",
       "\n",
       "    .dataframe tbody tr th {\n",
       "        vertical-align: top;\n",
       "    }\n",
       "\n",
       "    .dataframe thead th {\n",
       "        text-align: right;\n",
       "    }\n",
       "</style>\n",
       "<table border=\"1\" class=\"dataframe\">\n",
       "  <thead>\n",
       "    <tr style=\"text-align: right;\">\n",
       "      <th></th>\n",
       "      <th>Postcode</th>\n",
       "      <th>Borough</th>\n",
       "      <th>Neighbourhood</th>\n",
       "    </tr>\n",
       "  </thead>\n",
       "  <tbody>\n",
       "    <tr>\n",
       "      <td>0</td>\n",
       "      <td>M5A</td>\n",
       "      <td>Downtown Toronto</td>\n",
       "      <td>Harbourfront</td>\n",
       "    </tr>\n",
       "    <tr>\n",
       "      <td>1</td>\n",
       "      <td>M6A</td>\n",
       "      <td>North York</td>\n",
       "      <td>Lawrence Heights</td>\n",
       "    </tr>\n",
       "    <tr>\n",
       "      <td>2</td>\n",
       "      <td>M6A</td>\n",
       "      <td>North York</td>\n",
       "      <td>Lawrence Manor</td>\n",
       "    </tr>\n",
       "    <tr>\n",
       "      <td>3</td>\n",
       "      <td>M7A</td>\n",
       "      <td>Queen's Park</td>\n",
       "      <td>Not assigned</td>\n",
       "    </tr>\n",
       "    <tr>\n",
       "      <td>4</td>\n",
       "      <td>M8A</td>\n",
       "      <td>Not assigned</td>\n",
       "      <td>Not assigned</td>\n",
       "    </tr>\n",
       "    <tr>\n",
       "      <td>...</td>\n",
       "      <td>...</td>\n",
       "      <td>...</td>\n",
       "      <td>...</td>\n",
       "    </tr>\n",
       "    <tr>\n",
       "      <td>278</td>\n",
       "      <td>M8Z</td>\n",
       "      <td>Etobicoke</td>\n",
       "      <td>Mimico NW</td>\n",
       "    </tr>\n",
       "    <tr>\n",
       "      <td>279</td>\n",
       "      <td>M8Z</td>\n",
       "      <td>Etobicoke</td>\n",
       "      <td>The Queensway West</td>\n",
       "    </tr>\n",
       "    <tr>\n",
       "      <td>280</td>\n",
       "      <td>M8Z</td>\n",
       "      <td>Etobicoke</td>\n",
       "      <td>Royal York South West</td>\n",
       "    </tr>\n",
       "    <tr>\n",
       "      <td>281</td>\n",
       "      <td>M8Z</td>\n",
       "      <td>Etobicoke</td>\n",
       "      <td>South of Bloor</td>\n",
       "    </tr>\n",
       "    <tr>\n",
       "      <td>282</td>\n",
       "      <td>M9Z</td>\n",
       "      <td>Not assigned</td>\n",
       "      <td>Not assigned</td>\n",
       "    </tr>\n",
       "  </tbody>\n",
       "</table>\n",
       "<p>283 rows × 3 columns</p>\n",
       "</div>"
      ],
      "text/plain": [
       "    Postcode            Borough           Neighbourhood\n",
       "0        M5A   Downtown Toronto            Harbourfront\n",
       "1        M6A         North York        Lawrence Heights\n",
       "2        M6A         North York          Lawrence Manor\n",
       "3        M7A       Queen's Park            Not assigned\n",
       "4        M8A       Not assigned            Not assigned\n",
       "..       ...                ...                     ...\n",
       "278      M8Z          Etobicoke               Mimico NW\n",
       "279      M8Z          Etobicoke      The Queensway West\n",
       "280      M8Z          Etobicoke   Royal York South West\n",
       "281      M8Z          Etobicoke          South of Bloor\n",
       "282      M9Z       Not assigned            Not assigned\n",
       "\n",
       "[283 rows x 3 columns]"
      ]
     },
     "execution_count": 45,
     "metadata": {},
     "output_type": "execute_result"
    }
   ],
   "source": [
    "PostalCodesCanadaWhole = df4\n",
    "PostalCodesCanadaWhole"
   ]
  },
  {
   "cell_type": "code",
   "execution_count": null,
   "metadata": {},
   "outputs": [],
   "source": [
    "#Assiging the correct data type\n",
    "\n",
    "import pandas as pd\n",
    "import numpy as py\n",
    "\n",
    "#print(PostalCodesCanadaWhole)\n",
    "\n",
    "data = pd.DataFrame(PostalCodesCanadaWhole, columns = ['Postcode', 'Borough', 'Neighbourhood'])\n",
    "#print(data)\n",
    "print(data['Postcode'])\n",
    "print(data['Borough'])\n",
    "print(data['Neighbourhood'])\n",
    "data['Postcode']= data['Postcode'].astype(str)\n",
    "data['Postcode']\n",
    "\n",
    "data['Borough']= data['Borough'].astype(str)\n",
    "data['Borough']\n",
    "\n",
    "data['Neighbourhood']= data['Neighbourhood'].astype(str)\n",
    "data['Neighbourhood']"
   ]
  },
  {
   "cell_type": "code",
   "execution_count": null,
   "metadata": {},
   "outputs": [],
   "source": [
    "print(data)\n",
    "data.columns.dtype\n"
   ]
  },
  {
   "cell_type": "code",
   "execution_count": null,
   "metadata": {},
   "outputs": [],
   "source": [
    "#Now we have dropped 'Not assigned' data rows from 'Borough' column  \n",
    "PostalCodesCanada = data[data['Borough'].str.contains(\"Not assigned\") == False]\n",
    "PostalCodesCanada"
   ]
  },
  {
   "cell_type": "code",
   "execution_count": null,
   "metadata": {},
   "outputs": [],
   "source": [
    "\n",
    "PostalCodesCanada1 = PostalCodesCanada\n",
    "PostalCodesCanada1['Neighbourhood'] = PostalCodesCanada['Neighbourhood'].replace('Not assigned', PostalCodesCanada['Borough'], regex=True)\n",
    "PostalCodesCanada1.head(50)\n",
    "\n",
    "#'Not assigned' data from 'Neighbourhood' column is assigned with data from 'Borough' column"
   ]
  },
  {
   "cell_type": "code",
   "execution_count": 106,
   "metadata": {},
   "outputs": [],
   "source": [
    "PostalCodesCN = PostalCodesCanada1"
   ]
  },
  {
   "cell_type": "code",
   "execution_count": null,
   "metadata": {},
   "outputs": [],
   "source": [
    "#Groupby PostCode\n",
    "PostalCodesCN2 = PostalCodesCanada1\n",
    "PostalCodesCN3 = (PostalCodesCN2.groupby(['Postcode','Borough'])['Neighbourhood']\n",
    "       .apply(lambda x: ','.join(set(x.dropna())))\n",
    "       .reset_index())\n",
    "PostalCodesCN3.tail(50)"
   ]
  },
  {
   "cell_type": "code",
   "execution_count": 145,
   "metadata": {},
   "outputs": [
    {
     "data": {
      "text/html": [
       "<div>\n",
       "<style scoped>\n",
       "    .dataframe tbody tr th:only-of-type {\n",
       "        vertical-align: middle;\n",
       "    }\n",
       "\n",
       "    .dataframe tbody tr th {\n",
       "        vertical-align: top;\n",
       "    }\n",
       "\n",
       "    .dataframe thead th {\n",
       "        text-align: right;\n",
       "    }\n",
       "</style>\n",
       "<table border=\"1\" class=\"dataframe\">\n",
       "  <thead>\n",
       "    <tr style=\"text-align: right;\">\n",
       "      <th></th>\n",
       "      <th>Postal Code</th>\n",
       "      <th>Borough</th>\n",
       "      <th>Neighbourhood</th>\n",
       "    </tr>\n",
       "  </thead>\n",
       "  <tbody>\n",
       "    <tr>\n",
       "      <td>0</td>\n",
       "      <td>M1B</td>\n",
       "      <td>Scarborough</td>\n",
       "      <td>Malvern, Rouge</td>\n",
       "    </tr>\n",
       "    <tr>\n",
       "      <td>1</td>\n",
       "      <td>M1C</td>\n",
       "      <td>Scarborough</td>\n",
       "      <td>Highland Creek, Rouge Hill, Port Union</td>\n",
       "    </tr>\n",
       "    <tr>\n",
       "      <td>2</td>\n",
       "      <td>M1E</td>\n",
       "      <td>Scarborough</td>\n",
       "      <td>Morningside, West Hill, Guildwood</td>\n",
       "    </tr>\n",
       "    <tr>\n",
       "      <td>3</td>\n",
       "      <td>M1G</td>\n",
       "      <td>Scarborough</td>\n",
       "      <td>Woburn</td>\n",
       "    </tr>\n",
       "    <tr>\n",
       "      <td>4</td>\n",
       "      <td>M1H</td>\n",
       "      <td>Scarborough</td>\n",
       "      <td>Cedarbrae</td>\n",
       "    </tr>\n",
       "    <tr>\n",
       "      <td>5</td>\n",
       "      <td>M1J</td>\n",
       "      <td>Scarborough</td>\n",
       "      <td>Scarborough Village</td>\n",
       "    </tr>\n",
       "    <tr>\n",
       "      <td>6</td>\n",
       "      <td>M1K</td>\n",
       "      <td>Scarborough</td>\n",
       "      <td>Kennedy Park, Ionview, East Birchmount Park</td>\n",
       "    </tr>\n",
       "    <tr>\n",
       "      <td>7</td>\n",
       "      <td>M1L</td>\n",
       "      <td>Scarborough</td>\n",
       "      <td>Golden Mile, Oakridge, Clairlea</td>\n",
       "    </tr>\n",
       "    <tr>\n",
       "      <td>8</td>\n",
       "      <td>M1M</td>\n",
       "      <td>Scarborough</td>\n",
       "      <td>Scarborough Village West, Cliffside, Cliffcrest</td>\n",
       "    </tr>\n",
       "    <tr>\n",
       "      <td>9</td>\n",
       "      <td>M1N</td>\n",
       "      <td>Scarborough</td>\n",
       "      <td>Birch Cliff, Cliffside West</td>\n",
       "    </tr>\n",
       "  </tbody>\n",
       "</table>\n",
       "</div>"
      ],
      "text/plain": [
       "  Postal Code       Borough                                     Neighbourhood\n",
       "0         M1B   Scarborough                                    Malvern, Rouge\n",
       "1         M1C   Scarborough            Highland Creek, Rouge Hill, Port Union\n",
       "2         M1E   Scarborough                 Morningside, West Hill, Guildwood\n",
       "3         M1G   Scarborough                                            Woburn\n",
       "4         M1H   Scarborough                                         Cedarbrae\n",
       "5         M1J   Scarborough                               Scarborough Village\n",
       "6         M1K   Scarborough       Kennedy Park, Ionview, East Birchmount Park\n",
       "7         M1L   Scarborough                   Golden Mile, Oakridge, Clairlea\n",
       "8         M1M   Scarborough   Scarborough Village West, Cliffside, Cliffcrest\n",
       "9         M1N   Scarborough                       Birch Cliff, Cliffside West"
      ]
     },
     "execution_count": 145,
     "metadata": {},
     "output_type": "execute_result"
    }
   ],
   "source": [
    "#Correcting the Column names\n",
    "PostalCodesCN3.Int64Index = [0,1,2]\n",
    "PostalCodesCN3.columns = ['Postal Code', 'Borough', 'Neighbourhood']\n",
    "#PostalCodesCN3.columns\n",
    "PostalCodesCN3.head(10)"
   ]
  },
  {
   "cell_type": "code",
   "execution_count": 188,
   "metadata": {},
   "outputs": [
    {
     "data": {
      "text/plain": [
       "(101, 3)"
      ]
     },
     "execution_count": 188,
     "metadata": {},
     "output_type": "execute_result"
    }
   ],
   "source": [
    "PostalCodesCN3.shape"
   ]
  },
  {
   "cell_type": "code",
   "execution_count": 137,
   "metadata": {},
   "outputs": [
    {
     "data": {
      "text/html": [
       "<div>\n",
       "<style scoped>\n",
       "    .dataframe tbody tr th:only-of-type {\n",
       "        vertical-align: middle;\n",
       "    }\n",
       "\n",
       "    .dataframe tbody tr th {\n",
       "        vertical-align: top;\n",
       "    }\n",
       "\n",
       "    .dataframe thead th {\n",
       "        text-align: right;\n",
       "    }\n",
       "</style>\n",
       "<table border=\"1\" class=\"dataframe\">\n",
       "  <thead>\n",
       "    <tr style=\"text-align: right;\">\n",
       "      <th></th>\n",
       "      <th>Postal Code</th>\n",
       "      <th>Latitude</th>\n",
       "      <th>Longitude</th>\n",
       "    </tr>\n",
       "  </thead>\n",
       "  <tbody>\n",
       "    <tr>\n",
       "      <td>0</td>\n",
       "      <td>M1B</td>\n",
       "      <td>43.806686</td>\n",
       "      <td>-79.194353</td>\n",
       "    </tr>\n",
       "    <tr>\n",
       "      <td>1</td>\n",
       "      <td>M1C</td>\n",
       "      <td>43.784535</td>\n",
       "      <td>-79.160497</td>\n",
       "    </tr>\n",
       "    <tr>\n",
       "      <td>2</td>\n",
       "      <td>M1E</td>\n",
       "      <td>43.763573</td>\n",
       "      <td>-79.188711</td>\n",
       "    </tr>\n",
       "    <tr>\n",
       "      <td>3</td>\n",
       "      <td>M1G</td>\n",
       "      <td>43.770992</td>\n",
       "      <td>-79.216917</td>\n",
       "    </tr>\n",
       "    <tr>\n",
       "      <td>4</td>\n",
       "      <td>M1H</td>\n",
       "      <td>43.773136</td>\n",
       "      <td>-79.239476</td>\n",
       "    </tr>\n",
       "    <tr>\n",
       "      <td>...</td>\n",
       "      <td>...</td>\n",
       "      <td>...</td>\n",
       "      <td>...</td>\n",
       "    </tr>\n",
       "    <tr>\n",
       "      <td>98</td>\n",
       "      <td>M9N</td>\n",
       "      <td>43.706876</td>\n",
       "      <td>-79.518188</td>\n",
       "    </tr>\n",
       "    <tr>\n",
       "      <td>99</td>\n",
       "      <td>M9P</td>\n",
       "      <td>43.696319</td>\n",
       "      <td>-79.532242</td>\n",
       "    </tr>\n",
       "    <tr>\n",
       "      <td>100</td>\n",
       "      <td>M9R</td>\n",
       "      <td>43.688905</td>\n",
       "      <td>-79.554724</td>\n",
       "    </tr>\n",
       "    <tr>\n",
       "      <td>101</td>\n",
       "      <td>M9V</td>\n",
       "      <td>43.739416</td>\n",
       "      <td>-79.588437</td>\n",
       "    </tr>\n",
       "    <tr>\n",
       "      <td>102</td>\n",
       "      <td>M9W</td>\n",
       "      <td>43.706748</td>\n",
       "      <td>-79.594054</td>\n",
       "    </tr>\n",
       "  </tbody>\n",
       "</table>\n",
       "<p>103 rows × 3 columns</p>\n",
       "</div>"
      ],
      "text/plain": [
       "    Postal Code   Latitude  Longitude\n",
       "0           M1B  43.806686 -79.194353\n",
       "1           M1C  43.784535 -79.160497\n",
       "2           M1E  43.763573 -79.188711\n",
       "3           M1G  43.770992 -79.216917\n",
       "4           M1H  43.773136 -79.239476\n",
       "..          ...        ...        ...\n",
       "98          M9N  43.706876 -79.518188\n",
       "99          M9P  43.696319 -79.532242\n",
       "100         M9R  43.688905 -79.554724\n",
       "101         M9V  43.739416 -79.588437\n",
       "102         M9W  43.706748 -79.594054\n",
       "\n",
       "[103 rows x 3 columns]"
      ]
     },
     "execution_count": 137,
     "metadata": {},
     "output_type": "execute_result"
    }
   ],
   "source": [
    "#Reading Geocodes\n",
    "import pandas as pa\n",
    "GeoCodes = pa.read_csv(r\"C:\\Users\\wrigh\\Downloads\\Geospatial_Coordinates.csv\")\n",
    "GeoCodes"
   ]
  },
  {
   "cell_type": "code",
   "execution_count": 189,
   "metadata": {},
   "outputs": [
    {
     "data": {
      "text/html": [
       "<div>\n",
       "<style scoped>\n",
       "    .dataframe tbody tr th:only-of-type {\n",
       "        vertical-align: middle;\n",
       "    }\n",
       "\n",
       "    .dataframe tbody tr th {\n",
       "        vertical-align: top;\n",
       "    }\n",
       "\n",
       "    .dataframe thead th {\n",
       "        text-align: right;\n",
       "    }\n",
       "</style>\n",
       "<table border=\"1\" class=\"dataframe\">\n",
       "  <thead>\n",
       "    <tr style=\"text-align: right;\">\n",
       "      <th></th>\n",
       "      <th>Postal Code</th>\n",
       "      <th>Borough</th>\n",
       "      <th>Neighbourhood</th>\n",
       "      <th>Latitude</th>\n",
       "      <th>Longitude</th>\n",
       "    </tr>\n",
       "  </thead>\n",
       "  <tbody>\n",
       "    <tr>\n",
       "      <td>0</td>\n",
       "      <td>M1B</td>\n",
       "      <td>Scarborough</td>\n",
       "      <td>Malvern, Rouge</td>\n",
       "      <td>43.806686</td>\n",
       "      <td>-79.194353</td>\n",
       "    </tr>\n",
       "    <tr>\n",
       "      <td>1</td>\n",
       "      <td>M1C</td>\n",
       "      <td>Scarborough</td>\n",
       "      <td>Highland Creek, Rouge Hill, Port Union</td>\n",
       "      <td>43.784535</td>\n",
       "      <td>-79.160497</td>\n",
       "    </tr>\n",
       "    <tr>\n",
       "      <td>2</td>\n",
       "      <td>M1E</td>\n",
       "      <td>Scarborough</td>\n",
       "      <td>Morningside, West Hill, Guildwood</td>\n",
       "      <td>43.763573</td>\n",
       "      <td>-79.188711</td>\n",
       "    </tr>\n",
       "    <tr>\n",
       "      <td>3</td>\n",
       "      <td>M1G</td>\n",
       "      <td>Scarborough</td>\n",
       "      <td>Woburn</td>\n",
       "      <td>43.770992</td>\n",
       "      <td>-79.216917</td>\n",
       "    </tr>\n",
       "    <tr>\n",
       "      <td>4</td>\n",
       "      <td>M1H</td>\n",
       "      <td>Scarborough</td>\n",
       "      <td>Cedarbrae</td>\n",
       "      <td>43.773136</td>\n",
       "      <td>-79.239476</td>\n",
       "    </tr>\n",
       "    <tr>\n",
       "      <td>...</td>\n",
       "      <td>...</td>\n",
       "      <td>...</td>\n",
       "      <td>...</td>\n",
       "      <td>...</td>\n",
       "      <td>...</td>\n",
       "    </tr>\n",
       "    <tr>\n",
       "      <td>96</td>\n",
       "      <td>M9N</td>\n",
       "      <td>York</td>\n",
       "      <td>Weston</td>\n",
       "      <td>43.706876</td>\n",
       "      <td>-79.518188</td>\n",
       "    </tr>\n",
       "    <tr>\n",
       "      <td>97</td>\n",
       "      <td>M9P</td>\n",
       "      <td>Etobicoke</td>\n",
       "      <td>Westmount</td>\n",
       "      <td>43.696319</td>\n",
       "      <td>-79.532242</td>\n",
       "    </tr>\n",
       "    <tr>\n",
       "      <td>98</td>\n",
       "      <td>M9R</td>\n",
       "      <td>Etobicoke</td>\n",
       "      <td>St. Phillips, Kingsview Village, Richview Gar...</td>\n",
       "      <td>43.688905</td>\n",
       "      <td>-79.554724</td>\n",
       "    </tr>\n",
       "    <tr>\n",
       "      <td>99</td>\n",
       "      <td>M9V</td>\n",
       "      <td>Etobicoke</td>\n",
       "      <td>Thistletown, Albion Gardens, Humbergate, Jame...</td>\n",
       "      <td>43.739416</td>\n",
       "      <td>-79.588437</td>\n",
       "    </tr>\n",
       "    <tr>\n",
       "      <td>100</td>\n",
       "      <td>M9W</td>\n",
       "      <td>Etobicoke</td>\n",
       "      <td>Northwest</td>\n",
       "      <td>43.706748</td>\n",
       "      <td>-79.594054</td>\n",
       "    </tr>\n",
       "  </tbody>\n",
       "</table>\n",
       "<p>101 rows × 5 columns</p>\n",
       "</div>"
      ],
      "text/plain": [
       "    Postal Code       Borough  \\\n",
       "0           M1B   Scarborough   \n",
       "1           M1C   Scarborough   \n",
       "2           M1E   Scarborough   \n",
       "3           M1G   Scarborough   \n",
       "4           M1H   Scarborough   \n",
       "..          ...           ...   \n",
       "96          M9N          York   \n",
       "97          M9P     Etobicoke   \n",
       "98          M9R     Etobicoke   \n",
       "99          M9V     Etobicoke   \n",
       "100         M9W     Etobicoke   \n",
       "\n",
       "                                         Neighbourhood   Latitude  Longitude  \n",
       "0                                       Malvern, Rouge  43.806686 -79.194353  \n",
       "1               Highland Creek, Rouge Hill, Port Union  43.784535 -79.160497  \n",
       "2                    Morningside, West Hill, Guildwood  43.763573 -79.188711  \n",
       "3                                               Woburn  43.770992 -79.216917  \n",
       "4                                            Cedarbrae  43.773136 -79.239476  \n",
       "..                                                 ...        ...        ...  \n",
       "96                                              Weston  43.706876 -79.518188  \n",
       "97                                           Westmount  43.696319 -79.532242  \n",
       "98    St. Phillips, Kingsview Village, Richview Gar...  43.688905 -79.554724  \n",
       "99    Thistletown, Albion Gardens, Humbergate, Jame...  43.739416 -79.588437  \n",
       "100                                          Northwest  43.706748 -79.594054  \n",
       "\n",
       "[101 rows x 5 columns]"
      ]
     },
     "execution_count": 189,
     "metadata": {},
     "output_type": "execute_result"
    }
   ],
   "source": [
    "df5 = pd.merge(PostalCodesCN3, GeoCodes)\n",
    "df5\n",
    "DataCanada = df5\n",
    "DataCanada['Latitude']= DataCanada['Latitude'].astype(float)\n",
    "DataCanada['Longitude']= DataCanada['Longitude'].astype(float)\n",
    "DataCanada"
   ]
  },
  {
   "cell_type": "code",
   "execution_count": null,
   "metadata": {},
   "outputs": [],
   "source": [
    "#Installing folium again\n",
    "!conda install -c conda-forge folium=0.5.0 --yes\n",
    "import folium # plotting library\n",
    "\n",
    "print('Folium installed')"
   ]
  },
  {
   "cell_type": "code",
   "execution_count": 180,
   "metadata": {},
   "outputs": [
    {
     "data": {
      "text/plain": [
       "Index(['Postal Code', 'Borough', 'Neighbourhood', 'Latitude', 'Longitude'], dtype='object')"
      ]
     },
     "execution_count": 180,
     "metadata": {},
     "output_type": "execute_result"
    }
   ],
   "source": [
    "neighborhoods = DataCanada\n",
    "neighborhoods.columns"
   ]
  },
  {
   "cell_type": "code",
   "execution_count": 164,
   "metadata": {},
   "outputs": [],
   "source": [
    "from geopy.geocoders import Nominatim "
   ]
  },
  {
   "cell_type": "code",
   "execution_count": 181,
   "metadata": {},
   "outputs": [
    {
     "name": "stdout",
     "output_type": "stream",
     "text": [
      "The geograpical coordinate of Canada are 61.0666922, -107.9917071.\n"
     ]
    }
   ],
   "source": [
    "address = 'Canada'\n",
    "geolocator = Nominatim(user_agent=\"Canada\")\n",
    "location = geolocator.geocode(address)\n",
    "latitude = float(location.latitude)\n",
    "longitude = float(location.longitude)\n",
    "print('The geograpical coordinate of Canada are {}, {}.'.format(latitude, longitude))"
   ]
  },
  {
   "cell_type": "code",
   "execution_count": 187,
   "metadata": {
    "scrolled": true
   },
   "outputs": [
    {
     "data": {
      "text/html": [
       "<div style=\"width:100%;\"><div style=\"position:relative;width:100%;height:0;padding-bottom:60%;\"><iframe src=\"data:text/html;charset=utf-8;base64,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\" style=\"position:absolute;width:100%;height:100%;left:0;top:0;border:none !important;\" allowfullscreen webkitallowfullscreen mozallowfullscreen></iframe></div></div>"
      ],
      "text/plain": [
       "<folium.folium.Map at 0x1e5bd27df88>"
      ]
     },
     "execution_count": 187,
     "metadata": {},
     "output_type": "execute_result"
    }
   ],
   "source": [
    "# create map of all codes using latitude and longitude values\n",
    "\n",
    "map_Canada= folium.Map(location=[latitude, longitude], zoom_start=5)\n",
    "\n",
    "# add markers to map\n",
    "for lat, lng, borough, neighborhood in zip(neighborhoods['Latitude'], neighborhoods['Longitude'], neighborhoods['Borough'], neighborhoods['Neighbourhood']):\n",
    "    label = '{}, {}'.format(neighborhood, borough)\n",
    "    label = folium.Popup(label, parse_html=True)\n",
    "    folium.CircleMarker(\n",
    "        [lat, lng],\n",
    "        radius=5,\n",
    "        popup=label,\n",
    "        color='blue',\n",
    "        fill=True,\n",
    "        fill_color='#3186cc',\n",
    "        fill_opacity=0.7,\n",
    "        parse_html=False).add_to(map_Canada)  \n",
    "    \n",
    "map_Canada"
   ]
  },
  {
   "cell_type": "code",
   "execution_count": null,
   "metadata": {},
   "outputs": [],
   "source": []
  },
  {
   "cell_type": "code",
   "execution_count": null,
   "metadata": {},
   "outputs": [],
   "source": []
  }
 ],
 "metadata": {
  "kernelspec": {
   "display_name": "Python 3",
   "language": "python",
   "name": "python3"
  },
  "language_info": {
   "codemirror_mode": {
    "name": "ipython",
    "version": 3
   },
   "file_extension": ".py",
   "mimetype": "text/x-python",
   "name": "python",
   "nbconvert_exporter": "python",
   "pygments_lexer": "ipython3",
   "version": "3.7.4"
  }
 },
 "nbformat": 4,
 "nbformat_minor": 2
}
