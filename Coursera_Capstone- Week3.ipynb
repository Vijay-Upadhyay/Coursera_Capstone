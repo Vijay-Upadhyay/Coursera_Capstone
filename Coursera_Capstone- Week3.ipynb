{
 "cells": [
  {
   "cell_type": "markdown",
   "metadata": {},
   "source": [
    "Coursera_Capstone:Week3"
   ]
  },
  {
   "cell_type": "code",
   "execution_count": null,
   "metadata": {},
   "outputs": [],
   "source": [
    "import requests # library to handle requests\n",
    "import pandas as pd # library for data analsysis\n",
    "import numpy as np # library to handle data in a vectorized manner\n",
    "import random # library for random number generation\n",
    "\n",
    "!conda install -c conda-forge geopy --yes \n",
    "from geopy.geocoders import Nominatim # module to convert an address into latitude and longitude values\n",
    "\n",
    "# libraries for displaying images\n",
    "from IPython.display import Image \n",
    "from IPython.core.display import HTML \n",
    "    \n",
    "# tranforming json file into a pandas dataframe library\n",
    "from pandas.io.json import json_normalize\n",
    "\n",
    "!conda install -c conda-forge folium=0.5.0 --yes\n",
    "import folium # plotting library\n",
    "\n",
    "print('Folium installed')\n",
    "print('Libraries imported.')"
   ]
  },
  {
   "cell_type": "code",
   "execution_count": null,
   "metadata": {},
   "outputs": [],
   "source": [
    "#Installing Conda\n",
    "conda install -c anaconda beautifulsoup4"
   ]
  },
  {
   "cell_type": "code",
   "execution_count": null,
   "metadata": {},
   "outputs": [],
   "source": [
    "#Installing lxml\n",
    "conda install -c anaconda lxml"
   ]
  },
  {
   "cell_type": "code",
   "execution_count": null,
   "metadata": {},
   "outputs": [],
   "source": [
    "conda install -c anaconda requests\n"
   ]
  },
  {
   "cell_type": "code",
   "execution_count": null,
   "metadata": {},
   "outputs": [],
   "source": [
    "#Installing requests\n",
    "pip install requests"
   ]
  },
  {
   "cell_type": "code",
   "execution_count": 1,
   "metadata": {},
   "outputs": [],
   "source": [
    "import requests"
   ]
  },
  {
   "cell_type": "code",
   "execution_count": 2,
   "metadata": {},
   "outputs": [],
   "source": [
    "from bs4 import BeautifulSoup"
   ]
  },
  {
   "cell_type": "code",
   "execution_count": 3,
   "metadata": {},
   "outputs": [],
   "source": [
    "import pandas as pd\n",
    "import numpy as np\n",
    "import matplotlib.pyplot as plt\n",
    "import seaborn as sns\n",
    "%matplotlib inline"
   ]
  },
  {
   "cell_type": "code",
   "execution_count": 4,
   "metadata": {},
   "outputs": [],
   "source": [
    "from urllib.request import urlopen\n",
    "from bs4 import BeautifulSoup"
   ]
  },
  {
   "cell_type": "code",
   "execution_count": 5,
   "metadata": {},
   "outputs": [
    {
     "name": "stdout",
     "output_type": "stream",
     "text": [
      "<title>List of postal codes of Canada: M - Wikipedia</title>\n"
     ]
    }
   ],
   "source": [
    "url = 'https://en.wikipedia.org/wiki/List_of_postal_codes_of_Canada:_M'\n",
    "html = urlopen(url)\n",
    "\n",
    "soup = BeautifulSoup(html, 'lxml')\n",
    "type(soup)\n",
    "\n",
    "title = soup.title\n",
    "print(title)"
   ]
  },
  {
   "cell_type": "code",
   "execution_count": null,
   "metadata": {},
   "outputs": [],
   "source": [
    "# Print out the text\n",
    "text = soup.get_text()\n",
    "print(soup.text)"
   ]
  },
  {
   "cell_type": "code",
   "execution_count": null,
   "metadata": {},
   "outputs": [],
   "source": [
    "print(soup.prettify())"
   ]
  },
  {
   "cell_type": "code",
   "execution_count": null,
   "metadata": {},
   "outputs": [],
   "source": [
    "rows = soup.find_all('tr')\n",
    "#Postcode = soup.td.text\n",
    "print(rows[:10])"
   ]
  },
  {
   "cell_type": "code",
   "execution_count": null,
   "metadata": {},
   "outputs": [],
   "source": [
    "for row in rows:\n",
    "    row_td = row.find_all('td')\n",
    "print(row_td)\n",
    "#type(row_td)"
   ]
  },
  {
   "cell_type": "code",
   "execution_count": null,
   "metadata": {
    "scrolled": true
   },
   "outputs": [],
   "source": [
    "table_rows= soup.findAll('tr')\n",
    "#print(table_rows)\n",
    "\n",
    "for row in table_rows:\n",
    "    each_row= row.findAll('td')\n",
    "    #print(each_row)\n",
    "\n",
    "lists_of_rows = []\n",
    "for row in table_rows:\n",
    "    each_row= row.findAll('td')\n",
    "    str_row= str(each_row)\n",
    "    row_text = BeautifulSoup(str_row, \"lxml\").get_text()\n",
    "    lists_of_rows.append(row_text)\n",
    "#print(lists_of_rows)\n",
    "\n",
    "data = pd.DataFrame(lists_of_rows[5:])\n",
    "print(data)"
   ]
  },
  {
   "cell_type": "code",
   "execution_count": null,
   "metadata": {},
   "outputs": [],
   "source": [
    "#Cleaning Data\n",
    "df1 = data[0].str.split(',', expand=True)\n",
    "df1.head(10)\n"
   ]
  },
  {
   "cell_type": "code",
   "execution_count": null,
   "metadata": {},
   "outputs": [],
   "source": [
    "#Cleaning Data\n",
    "df1[0] = df1[0].str.strip('[')\n",
    "#df1.head(10)\n",
    "df1[0]"
   ]
  },
  {
   "cell_type": "code",
   "execution_count": null,
   "metadata": {},
   "outputs": [],
   "source": [
    "#Cleaning Data\n",
    "df1[2] = df1[2].str.strip(']')\n",
    "df1.head(10)"
   ]
  },
  {
   "cell_type": "code",
   "execution_count": null,
   "metadata": {},
   "outputs": [],
   "source": [
    "#Cleaning Data\n",
    "df1[2] = df1[2].str.strip('\\n')\n",
    "df1.head(10)\n",
    "\n",
    "DataValue = df1\n",
    "DataValue"
   ]
  },
  {
   "cell_type": "code",
   "execution_count": null,
   "metadata": {},
   "outputs": [],
   "source": [
    "DataValue"
   ]
  },
  {
   "cell_type": "code",
   "execution_count": null,
   "metadata": {},
   "outputs": [],
   "source": [
    "#Cleaning Data\n",
    "cols = [3]\n",
    "df2.drop(df2.columns[cols],axis=1,inplace=True)\n",
    "df2\n"
   ]
  },
  {
   "cell_type": "code",
   "execution_count": null,
   "metadata": {},
   "outputs": [],
   "source": [
    "df3=df2\n",
    "df3"
   ]
  },
  {
   "cell_type": "code",
   "execution_count": null,
   "metadata": {},
   "outputs": [],
   "source": [
    "#Cleaning Data\n",
    "df3[2] = df3[2].str.strip('\\n]')\n",
    "df3.head(10)"
   ]
  },
  {
   "cell_type": "code",
   "execution_count": 38,
   "metadata": {},
   "outputs": [
    {
     "data": {
      "text/plain": [
       "Int64Index([0, 1, 2], dtype='int64')"
      ]
     },
     "execution_count": 38,
     "metadata": {},
     "output_type": "execute_result"
    }
   ],
   "source": [
    "df3.columns"
   ]
  },
  {
   "cell_type": "code",
   "execution_count": 39,
   "metadata": {},
   "outputs": [
    {
     "data": {
      "text/plain": [
       "Int64Index([0, 1, 2], dtype='int64')"
      ]
     },
     "execution_count": 39,
     "metadata": {},
     "output_type": "execute_result"
    }
   ],
   "source": [
    "df3.columns"
   ]
  },
  {
   "cell_type": "code",
   "execution_count": 129,
   "metadata": {},
   "outputs": [
    {
     "data": {
      "text/plain": [
       "Index(['PostalCode', 'Borough', 'Neighbourhood'], dtype='object')"
      ]
     },
     "execution_count": 129,
     "metadata": {},
     "output_type": "execute_result"
    }
   ],
   "source": [
    "#Assiging columns\n",
    "df3.Int64Index = [0,1,2]\n",
    "df3.columns = ['PostalCode', 'Borough', 'Neighbourhood']\n",
    "df3.columns"
   ]
  },
  {
   "cell_type": "code",
   "execution_count": null,
   "metadata": {},
   "outputs": [],
   "source": [
    "df3"
   ]
  },
  {
   "cell_type": "code",
   "execution_count": null,
   "metadata": {},
   "outputs": [],
   "source": [
    "df4 = df3\n",
    "#Now we have data cleaned \n",
    "df4.drop(df4.index[[283]], inplace=True)\n",
    "df4"
   ]
  },
  {
   "cell_type": "code",
   "execution_count": 45,
   "metadata": {},
   "outputs": [
    {
     "data": {
      "text/html": [
       "<div>\n",
       "<style scoped>\n",
       "    .dataframe tbody tr th:only-of-type {\n",
       "        vertical-align: middle;\n",
       "    }\n",
       "\n",
       "    .dataframe tbody tr th {\n",
       "        vertical-align: top;\n",
       "    }\n",
       "\n",
       "    .dataframe thead th {\n",
       "        text-align: right;\n",
       "    }\n",
       "</style>\n",
       "<table border=\"1\" class=\"dataframe\">\n",
       "  <thead>\n",
       "    <tr style=\"text-align: right;\">\n",
       "      <th></th>\n",
       "      <th>Postcode</th>\n",
       "      <th>Borough</th>\n",
       "      <th>Neighbourhood</th>\n",
       "    </tr>\n",
       "  </thead>\n",
       "  <tbody>\n",
       "    <tr>\n",
       "      <td>0</td>\n",
       "      <td>M5A</td>\n",
       "      <td>Downtown Toronto</td>\n",
       "      <td>Harbourfront</td>\n",
       "    </tr>\n",
       "    <tr>\n",
       "      <td>1</td>\n",
       "      <td>M6A</td>\n",
       "      <td>North York</td>\n",
       "      <td>Lawrence Heights</td>\n",
       "    </tr>\n",
       "    <tr>\n",
       "      <td>2</td>\n",
       "      <td>M6A</td>\n",
       "      <td>North York</td>\n",
       "      <td>Lawrence Manor</td>\n",
       "    </tr>\n",
       "    <tr>\n",
       "      <td>3</td>\n",
       "      <td>M7A</td>\n",
       "      <td>Queen's Park</td>\n",
       "      <td>Not assigned</td>\n",
       "    </tr>\n",
       "    <tr>\n",
       "      <td>4</td>\n",
       "      <td>M8A</td>\n",
       "      <td>Not assigned</td>\n",
       "      <td>Not assigned</td>\n",
       "    </tr>\n",
       "    <tr>\n",
       "      <td>...</td>\n",
       "      <td>...</td>\n",
       "      <td>...</td>\n",
       "      <td>...</td>\n",
       "    </tr>\n",
       "    <tr>\n",
       "      <td>278</td>\n",
       "      <td>M8Z</td>\n",
       "      <td>Etobicoke</td>\n",
       "      <td>Mimico NW</td>\n",
       "    </tr>\n",
       "    <tr>\n",
       "      <td>279</td>\n",
       "      <td>M8Z</td>\n",
       "      <td>Etobicoke</td>\n",
       "      <td>The Queensway West</td>\n",
       "    </tr>\n",
       "    <tr>\n",
       "      <td>280</td>\n",
       "      <td>M8Z</td>\n",
       "      <td>Etobicoke</td>\n",
       "      <td>Royal York South West</td>\n",
       "    </tr>\n",
       "    <tr>\n",
       "      <td>281</td>\n",
       "      <td>M8Z</td>\n",
       "      <td>Etobicoke</td>\n",
       "      <td>South of Bloor</td>\n",
       "    </tr>\n",
       "    <tr>\n",
       "      <td>282</td>\n",
       "      <td>M9Z</td>\n",
       "      <td>Not assigned</td>\n",
       "      <td>Not assigned</td>\n",
       "    </tr>\n",
       "  </tbody>\n",
       "</table>\n",
       "<p>283 rows × 3 columns</p>\n",
       "</div>"
      ],
      "text/plain": [
       "    Postcode            Borough           Neighbourhood\n",
       "0        M5A   Downtown Toronto            Harbourfront\n",
       "1        M6A         North York        Lawrence Heights\n",
       "2        M6A         North York          Lawrence Manor\n",
       "3        M7A       Queen's Park            Not assigned\n",
       "4        M8A       Not assigned            Not assigned\n",
       "..       ...                ...                     ...\n",
       "278      M8Z          Etobicoke               Mimico NW\n",
       "279      M8Z          Etobicoke      The Queensway West\n",
       "280      M8Z          Etobicoke   Royal York South West\n",
       "281      M8Z          Etobicoke          South of Bloor\n",
       "282      M9Z       Not assigned            Not assigned\n",
       "\n",
       "[283 rows x 3 columns]"
      ]
     },
     "execution_count": 45,
     "metadata": {},
     "output_type": "execute_result"
    }
   ],
   "source": [
    "PostalCodesCanadaWhole = df4\n",
    "PostalCodesCanadaWhole"
   ]
  },
  {
   "cell_type": "code",
   "execution_count": null,
   "metadata": {},
   "outputs": [],
   "source": [
    "#Assiging the correct data type\n",
    "\n",
    "import pandas as pd\n",
    "import numpy as py\n",
    "\n",
    "#print(PostalCodesCanadaWhole)\n",
    "\n",
    "data = pd.DataFrame(PostalCodesCanadaWhole, columns = ['Postcode', 'Borough', 'Neighbourhood'])\n",
    "#print(data)\n",
    "print(data['Postcode'])\n",
    "print(data['Borough'])\n",
    "print(data['Neighbourhood'])\n",
    "data['Postcode']= data['Postcode'].astype(str)\n",
    "data['Postcode']\n",
    "\n",
    "data['Borough']= data['Borough'].astype(str)\n",
    "data['Borough']\n",
    "\n",
    "data['Neighbourhood']= data['Neighbourhood'].astype(str)\n",
    "data['Neighbourhood']"
   ]
  },
  {
   "cell_type": "code",
   "execution_count": null,
   "metadata": {},
   "outputs": [],
   "source": [
    "print(data)\n",
    "data.columns.dtype\n"
   ]
  },
  {
   "cell_type": "code",
   "execution_count": null,
   "metadata": {},
   "outputs": [],
   "source": [
    "#Now we have dropped 'Not assigned' data rows from 'Borough' column  \n",
    "PostalCodesCanada = data[data['Borough'].str.contains(\"Not assigned\") == False]\n",
    "PostalCodesCanada"
   ]
  },
  {
   "cell_type": "code",
   "execution_count": null,
   "metadata": {},
   "outputs": [],
   "source": [
    "\n",
    "PostalCodesCanada1 = PostalCodesCanada\n",
    "PostalCodesCanada1['Neighbourhood'] = PostalCodesCanada['Neighbourhood'].replace('Not assigned', PostalCodesCanada['Borough'], regex=True)\n",
    "PostalCodesCanada1.head(50)\n",
    "\n",
    "#'Not assigned' data from 'Neighbourhood' column is assigned with data from 'Borough' column"
   ]
  },
  {
   "cell_type": "code",
   "execution_count": 106,
   "metadata": {},
   "outputs": [],
   "source": [
    "PostalCodesCN = PostalCodesCanada1"
   ]
  },
  {
   "cell_type": "code",
   "execution_count": null,
   "metadata": {},
   "outputs": [],
   "source": [
    "#Groupby PostCode\n",
    "PostalCodesCN2 = PostalCodesCanada1\n",
    "PostalCodesCN3 = (PostalCodesCN2.groupby(['Postcode','Borough'])['Neighbourhood']\n",
    "       .apply(lambda x: ','.join(set(x.dropna())))\n",
    "       .reset_index())\n",
    "PostalCodesCN3.tail(50)"
   ]
  },
  {
   "cell_type": "code",
   "execution_count": 145,
   "metadata": {},
   "outputs": [
    {
     "data": {
      "text/html": [
       "<div>\n",
       "<style scoped>\n",
       "    .dataframe tbody tr th:only-of-type {\n",
       "        vertical-align: middle;\n",
       "    }\n",
       "\n",
       "    .dataframe tbody tr th {\n",
       "        vertical-align: top;\n",
       "    }\n",
       "\n",
       "    .dataframe thead th {\n",
       "        text-align: right;\n",
       "    }\n",
       "</style>\n",
       "<table border=\"1\" class=\"dataframe\">\n",
       "  <thead>\n",
       "    <tr style=\"text-align: right;\">\n",
       "      <th></th>\n",
       "      <th>Postal Code</th>\n",
       "      <th>Borough</th>\n",
       "      <th>Neighbourhood</th>\n",
       "    </tr>\n",
       "  </thead>\n",
       "  <tbody>\n",
       "    <tr>\n",
       "      <td>0</td>\n",
       "      <td>M1B</td>\n",
       "      <td>Scarborough</td>\n",
       "      <td>Malvern, Rouge</td>\n",
       "    </tr>\n",
       "    <tr>\n",
       "      <td>1</td>\n",
       "      <td>M1C</td>\n",
       "      <td>Scarborough</td>\n",
       "      <td>Highland Creek, Rouge Hill, Port Union</td>\n",
       "    </tr>\n",
       "    <tr>\n",
       "      <td>2</td>\n",
       "      <td>M1E</td>\n",
       "      <td>Scarborough</td>\n",
       "      <td>Morningside, West Hill, Guildwood</td>\n",
       "    </tr>\n",
       "    <tr>\n",
       "      <td>3</td>\n",
       "      <td>M1G</td>\n",
       "      <td>Scarborough</td>\n",
       "      <td>Woburn</td>\n",
       "    </tr>\n",
       "    <tr>\n",
       "      <td>4</td>\n",
       "      <td>M1H</td>\n",
       "      <td>Scarborough</td>\n",
       "      <td>Cedarbrae</td>\n",
       "    </tr>\n",
       "    <tr>\n",
       "      <td>5</td>\n",
       "      <td>M1J</td>\n",
       "      <td>Scarborough</td>\n",
       "      <td>Scarborough Village</td>\n",
       "    </tr>\n",
       "    <tr>\n",
       "      <td>6</td>\n",
       "      <td>M1K</td>\n",
       "      <td>Scarborough</td>\n",
       "      <td>Kennedy Park, Ionview, East Birchmount Park</td>\n",
       "    </tr>\n",
       "    <tr>\n",
       "      <td>7</td>\n",
       "      <td>M1L</td>\n",
       "      <td>Scarborough</td>\n",
       "      <td>Golden Mile, Oakridge, Clairlea</td>\n",
       "    </tr>\n",
       "    <tr>\n",
       "      <td>8</td>\n",
       "      <td>M1M</td>\n",
       "      <td>Scarborough</td>\n",
       "      <td>Scarborough Village West, Cliffside, Cliffcrest</td>\n",
       "    </tr>\n",
       "    <tr>\n",
       "      <td>9</td>\n",
       "      <td>M1N</td>\n",
       "      <td>Scarborough</td>\n",
       "      <td>Birch Cliff, Cliffside West</td>\n",
       "    </tr>\n",
       "  </tbody>\n",
       "</table>\n",
       "</div>"
      ],
      "text/plain": [
       "  Postal Code       Borough                                     Neighbourhood\n",
       "0         M1B   Scarborough                                    Malvern, Rouge\n",
       "1         M1C   Scarborough            Highland Creek, Rouge Hill, Port Union\n",
       "2         M1E   Scarborough                 Morningside, West Hill, Guildwood\n",
       "3         M1G   Scarborough                                            Woburn\n",
       "4         M1H   Scarborough                                         Cedarbrae\n",
       "5         M1J   Scarborough                               Scarborough Village\n",
       "6         M1K   Scarborough       Kennedy Park, Ionview, East Birchmount Park\n",
       "7         M1L   Scarborough                   Golden Mile, Oakridge, Clairlea\n",
       "8         M1M   Scarborough   Scarborough Village West, Cliffside, Cliffcrest\n",
       "9         M1N   Scarborough                       Birch Cliff, Cliffside West"
      ]
     },
     "execution_count": 145,
     "metadata": {},
     "output_type": "execute_result"
    }
   ],
   "source": [
    "#Correcting the Column names\n",
    "PostalCodesCN3.Int64Index = [0,1,2]\n",
    "PostalCodesCN3.columns = ['Postal Code', 'Borough', 'Neighbourhood']\n",
    "#PostalCodesCN3.columns\n",
    "PostalCodesCN3.head(10)"
   ]
  },
  {
   "cell_type": "code",
   "execution_count": 188,
   "metadata": {},
   "outputs": [
    {
     "data": {
      "text/plain": [
       "(101, 3)"
      ]
     },
     "execution_count": 188,
     "metadata": {},
     "output_type": "execute_result"
    }
   ],
   "source": [
    "PostalCodesCN3.shape"
   ]
  },
  {
   "cell_type": "code",
   "execution_count": 137,
   "metadata": {},
   "outputs": [
    {
     "data": {
      "text/html": [
       "<div>\n",
       "<style scoped>\n",
       "    .dataframe tbody tr th:only-of-type {\n",
       "        vertical-align: middle;\n",
       "    }\n",
       "\n",
       "    .dataframe tbody tr th {\n",
       "        vertical-align: top;\n",
       "    }\n",
       "\n",
       "    .dataframe thead th {\n",
       "        text-align: right;\n",
       "    }\n",
       "</style>\n",
       "<table border=\"1\" class=\"dataframe\">\n",
       "  <thead>\n",
       "    <tr style=\"text-align: right;\">\n",
       "      <th></th>\n",
       "      <th>Postal Code</th>\n",
       "      <th>Latitude</th>\n",
       "      <th>Longitude</th>\n",
       "    </tr>\n",
       "  </thead>\n",
       "  <tbody>\n",
       "    <tr>\n",
       "      <td>0</td>\n",
       "      <td>M1B</td>\n",
       "      <td>43.806686</td>\n",
       "      <td>-79.194353</td>\n",
       "    </tr>\n",
       "    <tr>\n",
       "      <td>1</td>\n",
       "      <td>M1C</td>\n",
       "      <td>43.784535</td>\n",
       "      <td>-79.160497</td>\n",
       "    </tr>\n",
       "    <tr>\n",
       "      <td>2</td>\n",
       "      <td>M1E</td>\n",
       "      <td>43.763573</td>\n",
       "      <td>-79.188711</td>\n",
       "    </tr>\n",
       "    <tr>\n",
       "      <td>3</td>\n",
       "      <td>M1G</td>\n",
       "      <td>43.770992</td>\n",
       "      <td>-79.216917</td>\n",
       "    </tr>\n",
       "    <tr>\n",
       "      <td>4</td>\n",
       "      <td>M1H</td>\n",
       "      <td>43.773136</td>\n",
       "      <td>-79.239476</td>\n",
       "    </tr>\n",
       "    <tr>\n",
       "      <td>...</td>\n",
       "      <td>...</td>\n",
       "      <td>...</td>\n",
       "      <td>...</td>\n",
       "    </tr>\n",
       "    <tr>\n",
       "      <td>98</td>\n",
       "      <td>M9N</td>\n",
       "      <td>43.706876</td>\n",
       "      <td>-79.518188</td>\n",
       "    </tr>\n",
       "    <tr>\n",
       "      <td>99</td>\n",
       "      <td>M9P</td>\n",
       "      <td>43.696319</td>\n",
       "      <td>-79.532242</td>\n",
       "    </tr>\n",
       "    <tr>\n",
       "      <td>100</td>\n",
       "      <td>M9R</td>\n",
       "      <td>43.688905</td>\n",
       "      <td>-79.554724</td>\n",
       "    </tr>\n",
       "    <tr>\n",
       "      <td>101</td>\n",
       "      <td>M9V</td>\n",
       "      <td>43.739416</td>\n",
       "      <td>-79.588437</td>\n",
       "    </tr>\n",
       "    <tr>\n",
       "      <td>102</td>\n",
       "      <td>M9W</td>\n",
       "      <td>43.706748</td>\n",
       "      <td>-79.594054</td>\n",
       "    </tr>\n",
       "  </tbody>\n",
       "</table>\n",
       "<p>103 rows × 3 columns</p>\n",
       "</div>"
      ],
      "text/plain": [
       "    Postal Code   Latitude  Longitude\n",
       "0           M1B  43.806686 -79.194353\n",
       "1           M1C  43.784535 -79.160497\n",
       "2           M1E  43.763573 -79.188711\n",
       "3           M1G  43.770992 -79.216917\n",
       "4           M1H  43.773136 -79.239476\n",
       "..          ...        ...        ...\n",
       "98          M9N  43.706876 -79.518188\n",
       "99          M9P  43.696319 -79.532242\n",
       "100         M9R  43.688905 -79.554724\n",
       "101         M9V  43.739416 -79.588437\n",
       "102         M9W  43.706748 -79.594054\n",
       "\n",
       "[103 rows x 3 columns]"
      ]
     },
     "execution_count": 137,
     "metadata": {},
     "output_type": "execute_result"
    }
   ],
   "source": [
    "#Reading Geocodes\n",
    "import pandas as pa\n",
    "GeoCodes = pa.read_csv(r\"C:\\Users\\wrigh\\Downloads\\Geospatial_Coordinates.csv\")\n",
    "GeoCodes"
   ]
  },
  {
   "cell_type": "code",
   "execution_count": 189,
   "metadata": {},
   "outputs": [
    {
     "data": {
      "text/html": [
       "<div>\n",
       "<style scoped>\n",
       "    .dataframe tbody tr th:only-of-type {\n",
       "        vertical-align: middle;\n",
       "    }\n",
       "\n",
       "    .dataframe tbody tr th {\n",
       "        vertical-align: top;\n",
       "    }\n",
       "\n",
       "    .dataframe thead th {\n",
       "        text-align: right;\n",
       "    }\n",
       "</style>\n",
       "<table border=\"1\" class=\"dataframe\">\n",
       "  <thead>\n",
       "    <tr style=\"text-align: right;\">\n",
       "      <th></th>\n",
       "      <th>Postal Code</th>\n",
       "      <th>Borough</th>\n",
       "      <th>Neighbourhood</th>\n",
       "      <th>Latitude</th>\n",
       "      <th>Longitude</th>\n",
       "    </tr>\n",
       "  </thead>\n",
       "  <tbody>\n",
       "    <tr>\n",
       "      <td>0</td>\n",
       "      <td>M1B</td>\n",
       "      <td>Scarborough</td>\n",
       "      <td>Malvern, Rouge</td>\n",
       "      <td>43.806686</td>\n",
       "      <td>-79.194353</td>\n",
       "    </tr>\n",
       "    <tr>\n",
       "      <td>1</td>\n",
       "      <td>M1C</td>\n",
       "      <td>Scarborough</td>\n",
       "      <td>Highland Creek, Rouge Hill, Port Union</td>\n",
       "      <td>43.784535</td>\n",
       "      <td>-79.160497</td>\n",
       "    </tr>\n",
       "    <tr>\n",
       "      <td>2</td>\n",
       "      <td>M1E</td>\n",
       "      <td>Scarborough</td>\n",
       "      <td>Morningside, West Hill, Guildwood</td>\n",
       "      <td>43.763573</td>\n",
       "      <td>-79.188711</td>\n",
       "    </tr>\n",
       "    <tr>\n",
       "      <td>3</td>\n",
       "      <td>M1G</td>\n",
       "      <td>Scarborough</td>\n",
       "      <td>Woburn</td>\n",
       "      <td>43.770992</td>\n",
       "      <td>-79.216917</td>\n",
       "    </tr>\n",
       "    <tr>\n",
       "      <td>4</td>\n",
       "      <td>M1H</td>\n",
       "      <td>Scarborough</td>\n",
       "      <td>Cedarbrae</td>\n",
       "      <td>43.773136</td>\n",
       "      <td>-79.239476</td>\n",
       "    </tr>\n",
       "    <tr>\n",
       "      <td>...</td>\n",
       "      <td>...</td>\n",
       "      <td>...</td>\n",
       "      <td>...</td>\n",
       "      <td>...</td>\n",
       "      <td>...</td>\n",
       "    </tr>\n",
       "    <tr>\n",
       "      <td>96</td>\n",
       "      <td>M9N</td>\n",
       "      <td>York</td>\n",
       "      <td>Weston</td>\n",
       "      <td>43.706876</td>\n",
       "      <td>-79.518188</td>\n",
       "    </tr>\n",
       "    <tr>\n",
       "      <td>97</td>\n",
       "      <td>M9P</td>\n",
       "      <td>Etobicoke</td>\n",
       "      <td>Westmount</td>\n",
       "      <td>43.696319</td>\n",
       "      <td>-79.532242</td>\n",
       "    </tr>\n",
       "    <tr>\n",
       "      <td>98</td>\n",
       "      <td>M9R</td>\n",
       "      <td>Etobicoke</td>\n",
       "      <td>St. Phillips, Kingsview Village, Richview Gar...</td>\n",
       "      <td>43.688905</td>\n",
       "      <td>-79.554724</td>\n",
       "    </tr>\n",
       "    <tr>\n",
       "      <td>99</td>\n",
       "      <td>M9V</td>\n",
       "      <td>Etobicoke</td>\n",
       "      <td>Thistletown, Albion Gardens, Humbergate, Jame...</td>\n",
       "      <td>43.739416</td>\n",
       "      <td>-79.588437</td>\n",
       "    </tr>\n",
       "    <tr>\n",
       "      <td>100</td>\n",
       "      <td>M9W</td>\n",
       "      <td>Etobicoke</td>\n",
       "      <td>Northwest</td>\n",
       "      <td>43.706748</td>\n",
       "      <td>-79.594054</td>\n",
       "    </tr>\n",
       "  </tbody>\n",
       "</table>\n",
       "<p>101 rows × 5 columns</p>\n",
       "</div>"
      ],
      "text/plain": [
       "    Postal Code       Borough  \\\n",
       "0           M1B   Scarborough   \n",
       "1           M1C   Scarborough   \n",
       "2           M1E   Scarborough   \n",
       "3           M1G   Scarborough   \n",
       "4           M1H   Scarborough   \n",
       "..          ...           ...   \n",
       "96          M9N          York   \n",
       "97          M9P     Etobicoke   \n",
       "98          M9R     Etobicoke   \n",
       "99          M9V     Etobicoke   \n",
       "100         M9W     Etobicoke   \n",
       "\n",
       "                                         Neighbourhood   Latitude  Longitude  \n",
       "0                                       Malvern, Rouge  43.806686 -79.194353  \n",
       "1               Highland Creek, Rouge Hill, Port Union  43.784535 -79.160497  \n",
       "2                    Morningside, West Hill, Guildwood  43.763573 -79.188711  \n",
       "3                                               Woburn  43.770992 -79.216917  \n",
       "4                                            Cedarbrae  43.773136 -79.239476  \n",
       "..                                                 ...        ...        ...  \n",
       "96                                              Weston  43.706876 -79.518188  \n",
       "97                                           Westmount  43.696319 -79.532242  \n",
       "98    St. Phillips, Kingsview Village, Richview Gar...  43.688905 -79.554724  \n",
       "99    Thistletown, Albion Gardens, Humbergate, Jame...  43.739416 -79.588437  \n",
       "100                                          Northwest  43.706748 -79.594054  \n",
       "\n",
       "[101 rows x 5 columns]"
      ]
     },
     "execution_count": 189,
     "metadata": {},
     "output_type": "execute_result"
    }
   ],
   "source": [
    "df5 = pd.merge(PostalCodesCN3, GeoCodes)\n",
    "df5\n",
    "DataCanada = df5\n",
    "DataCanada['Latitude']= DataCanada['Latitude'].astype(float)\n",
    "DataCanada['Longitude']= DataCanada['Longitude'].astype(float)\n",
    "DataCanada"
   ]
  },
  {
   "cell_type": "code",
   "execution_count": null,
   "metadata": {},
   "outputs": [],
   "source": [
    "#Installing folium again\n",
    "!conda install -c conda-forge folium=0.5.0 --yes\n",
    "import folium # plotting library\n",
    "\n",
    "print('Folium installed')"
   ]
  },
  {
   "cell_type": "code",
   "execution_count": 180,
   "metadata": {},
   "outputs": [
    {
     "data": {
      "text/plain": [
       "Index(['Postal Code', 'Borough', 'Neighbourhood', 'Latitude', 'Longitude'], dtype='object')"
      ]
     },
     "execution_count": 180,
     "metadata": {},
     "output_type": "execute_result"
    }
   ],
   "source": [
    "neighborhoods = DataCanada\n",
    "neighborhoods.columns"
   ]
  },
  {
   "cell_type": "code",
   "execution_count": 164,
   "metadata": {},
   "outputs": [],
   "source": [
    "from geopy.geocoders import Nominatim "
   ]
  },
  {
   "cell_type": "code",
   "execution_count": 193,
   "metadata": {},
   "outputs": [
    {
     "name": "stdout",
     "output_type": "stream",
     "text": [
      "The geograpical coordinate of Toronto are 43.653963, -79.387207.\n"
     ]
    }
   ],
   "source": [
    "address = 'Toronto'\n",
    "geolocator = Nominatim(user_agent=\"Toronto\")\n",
    "location = geolocator.geocode(address)\n",
    "latitude = float(location.latitude)\n",
    "longitude = float(location.longitude)\n",
    "print('The geograpical coordinate of Toronto are {}, {}.'.format(latitude, longitude))"
   ]
  },
  {
   "cell_type": "code",
   "execution_count": 195,
   "metadata": {
    "scrolled": true
   },
   "outputs": [
    {
     "data": {
      "text/html": [
       "<div style=\"width:100%;\"><div style=\"position:relative;width:100%;height:0;padding-bottom:60%;\"><iframe src=\"data:text/html;charset=utf-8;base64,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\" style=\"position:absolute;width:100%;height:100%;left:0;top:0;border:none !important;\" allowfullscreen webkitallowfullscreen mozallowfullscreen></iframe></div></div>"
      ],
      "text/plain": [
       "<folium.folium.Map at 0x1e5bebe2ac8>"
      ]
     },
     "execution_count": 195,
     "metadata": {},
     "output_type": "execute_result"
    }
   ],
   "source": [
    "# create map of all codes using latitude and longitude values\n",
    "\n",
    "map_Toronto= folium.Map(location=[latitude, longitude], tiles = 'Stamen Terrain', zoom_start=10)\n",
    "\n",
    "# add markers to map\n",
    "for lat, lng, borough, neighborhood in zip(neighborhoods['Latitude'], neighborhoods['Longitude'], neighborhoods['Borough'], neighborhoods['Neighbourhood']):\n",
    "    label = '{}, {}'.format(neighborhood, borough)\n",
    "    label = folium.Popup(label, parse_html=True)\n",
    "    folium.CircleMarker(\n",
    "        [lat, lng],\n",
    "        radius=5,\n",
    "        popup=label,\n",
    "        color='blue',\n",
    "        fill=True,\n",
    "        fill_color='#3186cc',\n",
    "        fill_opacity=0.7,\n",
    "        parse_html=False).add_to(map_Toronto)  \n",
    "    \n",
    "map_Toronto"
   ]
  },
  {
   "cell_type": "code",
   "execution_count": null,
   "metadata": {},
   "outputs": [],
   "source": []
  },
  {
   "cell_type": "code",
   "execution_count": null,
   "metadata": {},
   "outputs": [],
   "source": []
  }
 ],
 "metadata": {
  "kernelspec": {
   "display_name": "Python 3",
   "language": "python",
   "name": "python3"
  },
  "language_info": {
   "codemirror_mode": {
    "name": "ipython",
    "version": 3
   },
   "file_extension": ".py",
   "mimetype": "text/x-python",
   "name": "python",
   "nbconvert_exporter": "python",
   "pygments_lexer": "ipython3",
   "version": "3.7.4"
  }
 },
 "nbformat": 4,
 "nbformat_minor": 2
}
