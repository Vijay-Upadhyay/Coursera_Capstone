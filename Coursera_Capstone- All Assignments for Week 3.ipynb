{
 "cells": [
  {
   "cell_type": "markdown",
   "metadata": {},
   "source": [
    "Coursera_Capstone:Week3"
   ]
  },
  {
   "cell_type": "markdown",
   "metadata": {},
   "source": [
    "# nbViewer link for folium map"
   ]
  },
  {
   "cell_type": "markdown",
   "metadata": {},
   "source": [
    "https://nbviewer.jupyter.org/github/Vijay-Upadhyay/Coursera_Capstone/blob/master/Coursera_Capstone-%20All%20Assignments%20Week%203.ipynb"
   ]
  },
  {
   "cell_type": "code",
   "execution_count": null,
   "metadata": {},
   "outputs": [],
   "source": [
    "import requests # library to handle requests\n",
    "import pandas as pd # library for data analsysis\n",
    "import numpy as np # library to handle data in a vectorized manner\n",
    "import random # library for random number generation\n",
    "\n",
    "!conda install -c conda-forge geopy --yes \n",
    "from geopy.geocoders import Nominatim # module to convert an address into latitude and longitude values\n",
    "\n",
    "# libraries for displaying images\n",
    "from IPython.display import Image \n",
    "from IPython.core.display import HTML \n",
    "    \n",
    "# tranforming json file into a pandas dataframe library\n",
    "from pandas.io.json import json_normalize\n",
    "\n",
    "!conda install -c conda-forge folium=0.5.0 --yes\n",
    "import folium # plotting library\n",
    "\n",
    "print('Folium installed')\n",
    "print('Libraries imported.')"
   ]
  },
  {
   "cell_type": "code",
   "execution_count": null,
   "metadata": {},
   "outputs": [],
   "source": [
    "#Installing Conda\n",
    "conda install -c anaconda beautifulsoup4"
   ]
  },
  {
   "cell_type": "code",
   "execution_count": null,
   "metadata": {},
   "outputs": [],
   "source": [
    "#Installing lxml\n",
    "conda install -c anaconda lxml"
   ]
  },
  {
   "cell_type": "code",
   "execution_count": null,
   "metadata": {},
   "outputs": [],
   "source": [
    "conda install -c anaconda requests\n"
   ]
  },
  {
   "cell_type": "code",
   "execution_count": null,
   "metadata": {},
   "outputs": [],
   "source": [
    "#Installing requests\n",
    "pip install requests"
   ]
  },
  {
   "cell_type": "code",
   "execution_count": 1,
   "metadata": {},
   "outputs": [],
   "source": [
    "import requests"
   ]
  },
  {
   "cell_type": "code",
   "execution_count": 2,
   "metadata": {},
   "outputs": [],
   "source": [
    "from bs4 import BeautifulSoup"
   ]
  },
  {
   "cell_type": "code",
   "execution_count": 3,
   "metadata": {},
   "outputs": [],
   "source": [
    "import pandas as pd\n",
    "import numpy as np\n",
    "import matplotlib.pyplot as plt\n",
    "import seaborn as sns\n",
    "%matplotlib inline"
   ]
  },
  {
   "cell_type": "code",
   "execution_count": 4,
   "metadata": {},
   "outputs": [],
   "source": [
    "from urllib.request import urlopen\n",
    "from bs4 import BeautifulSoup"
   ]
  },
  {
   "cell_type": "code",
   "execution_count": 5,
   "metadata": {},
   "outputs": [
    {
     "name": "stdout",
     "output_type": "stream",
     "text": [
      "<title>List of postal codes of Canada: M - Wikipedia</title>\n"
     ]
    }
   ],
   "source": [
    "url = 'https://en.wikipedia.org/wiki/List_of_postal_codes_of_Canada:_M'\n",
    "html = urlopen(url)\n",
    "\n",
    "soup = BeautifulSoup(html, 'lxml')\n",
    "type(soup)\n",
    "\n",
    "title = soup.title\n",
    "print(title)"
   ]
  },
  {
   "cell_type": "code",
   "execution_count": null,
   "metadata": {},
   "outputs": [],
   "source": [
    "# Print out the text\n",
    "text = soup.get_text()\n",
    "print(soup.text)"
   ]
  },
  {
   "cell_type": "code",
   "execution_count": null,
   "metadata": {},
   "outputs": [],
   "source": [
    "print(soup.prettify())"
   ]
  },
  {
   "cell_type": "code",
   "execution_count": null,
   "metadata": {},
   "outputs": [],
   "source": [
    "rows = soup.find_all('tr')\n",
    "#Postcode = soup.td.text\n",
    "print(rows[:10])"
   ]
  },
  {
   "cell_type": "code",
   "execution_count": null,
   "metadata": {},
   "outputs": [],
   "source": [
    "for row in rows:\n",
    "    row_td = row.find_all('td')\n",
    "print(row_td)\n",
    "#type(row_td)"
   ]
  },
  {
   "cell_type": "code",
   "execution_count": null,
   "metadata": {
    "scrolled": true
   },
   "outputs": [],
   "source": [
    "table_rows= soup.findAll('tr')\n",
    "#print(table_rows)\n",
    "\n",
    "for row in table_rows:\n",
    "    each_row= row.findAll('td')\n",
    "    #print(each_row)\n",
    "\n",
    "lists_of_rows = []\n",
    "for row in table_rows:\n",
    "    each_row= row.findAll('td')\n",
    "    str_row= str(each_row)\n",
    "    row_text = BeautifulSoup(str_row, \"lxml\").get_text()\n",
    "    lists_of_rows.append(row_text)\n",
    "#print(lists_of_rows)\n",
    "\n",
    "data = pd.DataFrame(lists_of_rows[5:])\n",
    "print(data)"
   ]
  },
  {
   "cell_type": "code",
   "execution_count": null,
   "metadata": {},
   "outputs": [],
   "source": [
    "#Cleaning Data\n",
    "df1 = data[0].str.split(',', expand=True)\n",
    "df1.head(10)\n"
   ]
  },
  {
   "cell_type": "code",
   "execution_count": null,
   "metadata": {},
   "outputs": [],
   "source": [
    "#Cleaning Data\n",
    "df1[0] = df1[0].str.strip('[')\n",
    "#df1.head(10)\n",
    "df1[0]"
   ]
  },
  {
   "cell_type": "code",
   "execution_count": null,
   "metadata": {},
   "outputs": [],
   "source": [
    "#Cleaning Data\n",
    "df1[2] = df1[2].str.strip(']')\n",
    "df1.head(10)"
   ]
  },
  {
   "cell_type": "code",
   "execution_count": null,
   "metadata": {},
   "outputs": [],
   "source": [
    "#Cleaning Data\n",
    "df1[2] = df1[2].str.strip('\\n')\n",
    "df1.head(10)\n",
    "\n",
    "DataValue = df1\n",
    "DataValue"
   ]
  },
  {
   "cell_type": "code",
   "execution_count": null,
   "metadata": {},
   "outputs": [],
   "source": [
    "DataValue"
   ]
  },
  {
   "cell_type": "code",
   "execution_count": null,
   "metadata": {},
   "outputs": [],
   "source": [
    "#Cleaning Data\n",
    "cols = [3]\n",
    "df2.drop(df2.columns[cols],axis=1,inplace=True)\n",
    "df2\n"
   ]
  },
  {
   "cell_type": "code",
   "execution_count": null,
   "metadata": {},
   "outputs": [],
   "source": [
    "df3=df2\n",
    "df3"
   ]
  },
  {
   "cell_type": "code",
   "execution_count": null,
   "metadata": {},
   "outputs": [],
   "source": [
    "#Cleaning Data\n",
    "df3[2] = df3[2].str.strip('\\n]')\n",
    "df3.head(10)"
   ]
  },
  {
   "cell_type": "code",
   "execution_count": 38,
   "metadata": {},
   "outputs": [
    {
     "data": {
      "text/plain": [
       "Int64Index([0, 1, 2], dtype='int64')"
      ]
     },
     "execution_count": 38,
     "metadata": {},
     "output_type": "execute_result"
    }
   ],
   "source": [
    "df3.columns"
   ]
  },
  {
   "cell_type": "code",
   "execution_count": 39,
   "metadata": {},
   "outputs": [
    {
     "data": {
      "text/plain": [
       "Int64Index([0, 1, 2], dtype='int64')"
      ]
     },
     "execution_count": 39,
     "metadata": {},
     "output_type": "execute_result"
    }
   ],
   "source": [
    "df3.columns"
   ]
  },
  {
   "cell_type": "code",
   "execution_count": 129,
   "metadata": {},
   "outputs": [
    {
     "data": {
      "text/plain": [
       "Index(['PostalCode', 'Borough', 'Neighbourhood'], dtype='object')"
      ]
     },
     "execution_count": 129,
     "metadata": {},
     "output_type": "execute_result"
    }
   ],
   "source": [
    "#Assiging columns\n",
    "df3.Int64Index = [0,1,2]\n",
    "df3.columns = ['PostalCode', 'Borough', 'Neighbourhood']\n",
    "df3.columns"
   ]
  },
  {
   "cell_type": "code",
   "execution_count": null,
   "metadata": {},
   "outputs": [],
   "source": [
    "df3"
   ]
  },
  {
   "cell_type": "code",
   "execution_count": null,
   "metadata": {},
   "outputs": [],
   "source": [
    "df4 = df3\n",
    "#Now we have data cleaned \n",
    "df4.drop(df4.index[[283]], inplace=True)\n",
    "df4"
   ]
  },
  {
   "cell_type": "code",
   "execution_count": 45,
   "metadata": {},
   "outputs": [
    {
     "data": {
      "text/html": [
       "<div>\n",
       "<style scoped>\n",
       "    .dataframe tbody tr th:only-of-type {\n",
       "        vertical-align: middle;\n",
       "    }\n",
       "\n",
       "    .dataframe tbody tr th {\n",
       "        vertical-align: top;\n",
       "    }\n",
       "\n",
       "    .dataframe thead th {\n",
       "        text-align: right;\n",
       "    }\n",
       "</style>\n",
       "<table border=\"1\" class=\"dataframe\">\n",
       "  <thead>\n",
       "    <tr style=\"text-align: right;\">\n",
       "      <th></th>\n",
       "      <th>Postcode</th>\n",
       "      <th>Borough</th>\n",
       "      <th>Neighbourhood</th>\n",
       "    </tr>\n",
       "  </thead>\n",
       "  <tbody>\n",
       "    <tr>\n",
       "      <td>0</td>\n",
       "      <td>M5A</td>\n",
       "      <td>Downtown Toronto</td>\n",
       "      <td>Harbourfront</td>\n",
       "    </tr>\n",
       "    <tr>\n",
       "      <td>1</td>\n",
       "      <td>M6A</td>\n",
       "      <td>North York</td>\n",
       "      <td>Lawrence Heights</td>\n",
       "    </tr>\n",
       "    <tr>\n",
       "      <td>2</td>\n",
       "      <td>M6A</td>\n",
       "      <td>North York</td>\n",
       "      <td>Lawrence Manor</td>\n",
       "    </tr>\n",
       "    <tr>\n",
       "      <td>3</td>\n",
       "      <td>M7A</td>\n",
       "      <td>Queen's Park</td>\n",
       "      <td>Not assigned</td>\n",
       "    </tr>\n",
       "    <tr>\n",
       "      <td>4</td>\n",
       "      <td>M8A</td>\n",
       "      <td>Not assigned</td>\n",
       "      <td>Not assigned</td>\n",
       "    </tr>\n",
       "    <tr>\n",
       "      <td>...</td>\n",
       "      <td>...</td>\n",
       "      <td>...</td>\n",
       "      <td>...</td>\n",
       "    </tr>\n",
       "    <tr>\n",
       "      <td>278</td>\n",
       "      <td>M8Z</td>\n",
       "      <td>Etobicoke</td>\n",
       "      <td>Mimico NW</td>\n",
       "    </tr>\n",
       "    <tr>\n",
       "      <td>279</td>\n",
       "      <td>M8Z</td>\n",
       "      <td>Etobicoke</td>\n",
       "      <td>The Queensway West</td>\n",
       "    </tr>\n",
       "    <tr>\n",
       "      <td>280</td>\n",
       "      <td>M8Z</td>\n",
       "      <td>Etobicoke</td>\n",
       "      <td>Royal York South West</td>\n",
       "    </tr>\n",
       "    <tr>\n",
       "      <td>281</td>\n",
       "      <td>M8Z</td>\n",
       "      <td>Etobicoke</td>\n",
       "      <td>South of Bloor</td>\n",
       "    </tr>\n",
       "    <tr>\n",
       "      <td>282</td>\n",
       "      <td>M9Z</td>\n",
       "      <td>Not assigned</td>\n",
       "      <td>Not assigned</td>\n",
       "    </tr>\n",
       "  </tbody>\n",
       "</table>\n",
       "<p>283 rows × 3 columns</p>\n",
       "</div>"
      ],
      "text/plain": [
       "    Postcode            Borough           Neighbourhood\n",
       "0        M5A   Downtown Toronto            Harbourfront\n",
       "1        M6A         North York        Lawrence Heights\n",
       "2        M6A         North York          Lawrence Manor\n",
       "3        M7A       Queen's Park            Not assigned\n",
       "4        M8A       Not assigned            Not assigned\n",
       "..       ...                ...                     ...\n",
       "278      M8Z          Etobicoke               Mimico NW\n",
       "279      M8Z          Etobicoke      The Queensway West\n",
       "280      M8Z          Etobicoke   Royal York South West\n",
       "281      M8Z          Etobicoke          South of Bloor\n",
       "282      M9Z       Not assigned            Not assigned\n",
       "\n",
       "[283 rows x 3 columns]"
      ]
     },
     "execution_count": 45,
     "metadata": {},
     "output_type": "execute_result"
    }
   ],
   "source": [
    "PostalCodesCanadaWhole = df4\n",
    "PostalCodesCanadaWhole"
   ]
  },
  {
   "cell_type": "code",
   "execution_count": null,
   "metadata": {},
   "outputs": [],
   "source": [
    "#Assiging the correct data type\n",
    "\n",
    "import pandas as pd\n",
    "import numpy as py\n",
    "\n",
    "#print(PostalCodesCanadaWhole)\n",
    "\n",
    "data = pd.DataFrame(PostalCodesCanadaWhole, columns = ['Postcode', 'Borough', 'Neighbourhood'])\n",
    "#print(data)\n",
    "print(data['Postcode'])\n",
    "print(data['Borough'])\n",
    "print(data['Neighbourhood'])\n",
    "data['Postcode']= data['Postcode'].astype(str)\n",
    "data['Postcode']\n",
    "\n",
    "data['Borough']= data['Borough'].astype(str)\n",
    "data['Borough']\n",
    "\n",
    "data['Neighbourhood']= data['Neighbourhood'].astype(str)\n",
    "data['Neighbourhood']"
   ]
  },
  {
   "cell_type": "code",
   "execution_count": null,
   "metadata": {},
   "outputs": [],
   "source": [
    "print(data)\n",
    "data.columns.dtype\n"
   ]
  },
  {
   "cell_type": "code",
   "execution_count": null,
   "metadata": {},
   "outputs": [],
   "source": [
    "#Now we have dropped 'Not assigned' data rows from 'Borough' column  \n",
    "PostalCodesCanada = data[data['Borough'].str.contains(\"Not assigned\") == False]\n",
    "PostalCodesCanada"
   ]
  },
  {
   "cell_type": "code",
   "execution_count": null,
   "metadata": {},
   "outputs": [],
   "source": [
    "\n",
    "PostalCodesCanada1 = PostalCodesCanada\n",
    "PostalCodesCanada1['Neighbourhood'] = PostalCodesCanada['Neighbourhood'].replace('Not assigned', PostalCodesCanada['Borough'], regex=True)\n",
    "PostalCodesCanada1.head(50)\n",
    "\n",
    "#'Not assigned' data from 'Neighbourhood' column is assigned with data from 'Borough' column"
   ]
  },
  {
   "cell_type": "code",
   "execution_count": 106,
   "metadata": {},
   "outputs": [],
   "source": [
    "PostalCodesCN = PostalCodesCanada1"
   ]
  },
  {
   "cell_type": "code",
   "execution_count": null,
   "metadata": {},
   "outputs": [],
   "source": [
    "#Groupby PostCode\n",
    "PostalCodesCN2 = PostalCodesCanada1\n",
    "PostalCodesCN3 = (PostalCodesCN2.groupby(['Postcode','Borough'])['Neighbourhood']\n",
    "       .apply(lambda x: ','.join(set(x.dropna())))\n",
    "       .reset_index())\n",
    "PostalCodesCN3.tail(50)"
   ]
  },
  {
   "cell_type": "code",
   "execution_count": 145,
   "metadata": {},
   "outputs": [
    {
     "data": {
      "text/html": [
       "<div>\n",
       "<style scoped>\n",
       "    .dataframe tbody tr th:only-of-type {\n",
       "        vertical-align: middle;\n",
       "    }\n",
       "\n",
       "    .dataframe tbody tr th {\n",
       "        vertical-align: top;\n",
       "    }\n",
       "\n",
       "    .dataframe thead th {\n",
       "        text-align: right;\n",
       "    }\n",
       "</style>\n",
       "<table border=\"1\" class=\"dataframe\">\n",
       "  <thead>\n",
       "    <tr style=\"text-align: right;\">\n",
       "      <th></th>\n",
       "      <th>Postal Code</th>\n",
       "      <th>Borough</th>\n",
       "      <th>Neighbourhood</th>\n",
       "    </tr>\n",
       "  </thead>\n",
       "  <tbody>\n",
       "    <tr>\n",
       "      <td>0</td>\n",
       "      <td>M1B</td>\n",
       "      <td>Scarborough</td>\n",
       "      <td>Malvern, Rouge</td>\n",
       "    </tr>\n",
       "    <tr>\n",
       "      <td>1</td>\n",
       "      <td>M1C</td>\n",
       "      <td>Scarborough</td>\n",
       "      <td>Highland Creek, Rouge Hill, Port Union</td>\n",
       "    </tr>\n",
       "    <tr>\n",
       "      <td>2</td>\n",
       "      <td>M1E</td>\n",
       "      <td>Scarborough</td>\n",
       "      <td>Morningside, West Hill, Guildwood</td>\n",
       "    </tr>\n",
       "    <tr>\n",
       "      <td>3</td>\n",
       "      <td>M1G</td>\n",
       "      <td>Scarborough</td>\n",
       "      <td>Woburn</td>\n",
       "    </tr>\n",
       "    <tr>\n",
       "      <td>4</td>\n",
       "      <td>M1H</td>\n",
       "      <td>Scarborough</td>\n",
       "      <td>Cedarbrae</td>\n",
       "    </tr>\n",
       "    <tr>\n",
       "      <td>5</td>\n",
       "      <td>M1J</td>\n",
       "      <td>Scarborough</td>\n",
       "      <td>Scarborough Village</td>\n",
       "    </tr>\n",
       "    <tr>\n",
       "      <td>6</td>\n",
       "      <td>M1K</td>\n",
       "      <td>Scarborough</td>\n",
       "      <td>Kennedy Park, Ionview, East Birchmount Park</td>\n",
       "    </tr>\n",
       "    <tr>\n",
       "      <td>7</td>\n",
       "      <td>M1L</td>\n",
       "      <td>Scarborough</td>\n",
       "      <td>Golden Mile, Oakridge, Clairlea</td>\n",
       "    </tr>\n",
       "    <tr>\n",
       "      <td>8</td>\n",
       "      <td>M1M</td>\n",
       "      <td>Scarborough</td>\n",
       "      <td>Scarborough Village West, Cliffside, Cliffcrest</td>\n",
       "    </tr>\n",
       "    <tr>\n",
       "      <td>9</td>\n",
       "      <td>M1N</td>\n",
       "      <td>Scarborough</td>\n",
       "      <td>Birch Cliff, Cliffside West</td>\n",
       "    </tr>\n",
       "  </tbody>\n",
       "</table>\n",
       "</div>"
      ],
      "text/plain": [
       "  Postal Code       Borough                                     Neighbourhood\n",
       "0         M1B   Scarborough                                    Malvern, Rouge\n",
       "1         M1C   Scarborough            Highland Creek, Rouge Hill, Port Union\n",
       "2         M1E   Scarborough                 Morningside, West Hill, Guildwood\n",
       "3         M1G   Scarborough                                            Woburn\n",
       "4         M1H   Scarborough                                         Cedarbrae\n",
       "5         M1J   Scarborough                               Scarborough Village\n",
       "6         M1K   Scarborough       Kennedy Park, Ionview, East Birchmount Park\n",
       "7         M1L   Scarborough                   Golden Mile, Oakridge, Clairlea\n",
       "8         M1M   Scarborough   Scarborough Village West, Cliffside, Cliffcrest\n",
       "9         M1N   Scarborough                       Birch Cliff, Cliffside West"
      ]
     },
     "execution_count": 145,
     "metadata": {},
     "output_type": "execute_result"
    }
   ],
   "source": [
    "#Correcting the Column names\n",
    "PostalCodesCN3.Int64Index = [0,1,2]\n",
    "PostalCodesCN3.columns = ['Postal Code', 'Borough', 'Neighbourhood']\n",
    "#PostalCodesCN3.columns\n",
    "PostalCodesCN3.head(10)"
   ]
  },
  {
   "cell_type": "code",
   "execution_count": 188,
   "metadata": {},
   "outputs": [
    {
     "data": {
      "text/plain": [
       "(101, 3)"
      ]
     },
     "execution_count": 188,
     "metadata": {},
     "output_type": "execute_result"
    }
   ],
   "source": [
    "PostalCodesCN3.shape"
   ]
  },
  {
   "cell_type": "code",
   "execution_count": 137,
   "metadata": {},
   "outputs": [
    {
     "data": {
      "text/html": [
       "<div>\n",
       "<style scoped>\n",
       "    .dataframe tbody tr th:only-of-type {\n",
       "        vertical-align: middle;\n",
       "    }\n",
       "\n",
       "    .dataframe tbody tr th {\n",
       "        vertical-align: top;\n",
       "    }\n",
       "\n",
       "    .dataframe thead th {\n",
       "        text-align: right;\n",
       "    }\n",
       "</style>\n",
       "<table border=\"1\" class=\"dataframe\">\n",
       "  <thead>\n",
       "    <tr style=\"text-align: right;\">\n",
       "      <th></th>\n",
       "      <th>Postal Code</th>\n",
       "      <th>Latitude</th>\n",
       "      <th>Longitude</th>\n",
       "    </tr>\n",
       "  </thead>\n",
       "  <tbody>\n",
       "    <tr>\n",
       "      <td>0</td>\n",
       "      <td>M1B</td>\n",
       "      <td>43.806686</td>\n",
       "      <td>-79.194353</td>\n",
       "    </tr>\n",
       "    <tr>\n",
       "      <td>1</td>\n",
       "      <td>M1C</td>\n",
       "      <td>43.784535</td>\n",
       "      <td>-79.160497</td>\n",
       "    </tr>\n",
       "    <tr>\n",
       "      <td>2</td>\n",
       "      <td>M1E</td>\n",
       "      <td>43.763573</td>\n",
       "      <td>-79.188711</td>\n",
       "    </tr>\n",
       "    <tr>\n",
       "      <td>3</td>\n",
       "      <td>M1G</td>\n",
       "      <td>43.770992</td>\n",
       "      <td>-79.216917</td>\n",
       "    </tr>\n",
       "    <tr>\n",
       "      <td>4</td>\n",
       "      <td>M1H</td>\n",
       "      <td>43.773136</td>\n",
       "      <td>-79.239476</td>\n",
       "    </tr>\n",
       "    <tr>\n",
       "      <td>...</td>\n",
       "      <td>...</td>\n",
       "      <td>...</td>\n",
       "      <td>...</td>\n",
       "    </tr>\n",
       "    <tr>\n",
       "      <td>98</td>\n",
       "      <td>M9N</td>\n",
       "      <td>43.706876</td>\n",
       "      <td>-79.518188</td>\n",
       "    </tr>\n",
       "    <tr>\n",
       "      <td>99</td>\n",
       "      <td>M9P</td>\n",
       "      <td>43.696319</td>\n",
       "      <td>-79.532242</td>\n",
       "    </tr>\n",
       "    <tr>\n",
       "      <td>100</td>\n",
       "      <td>M9R</td>\n",
       "      <td>43.688905</td>\n",
       "      <td>-79.554724</td>\n",
       "    </tr>\n",
       "    <tr>\n",
       "      <td>101</td>\n",
       "      <td>M9V</td>\n",
       "      <td>43.739416</td>\n",
       "      <td>-79.588437</td>\n",
       "    </tr>\n",
       "    <tr>\n",
       "      <td>102</td>\n",
       "      <td>M9W</td>\n",
       "      <td>43.706748</td>\n",
       "      <td>-79.594054</td>\n",
       "    </tr>\n",
       "  </tbody>\n",
       "</table>\n",
       "<p>103 rows × 3 columns</p>\n",
       "</div>"
      ],
      "text/plain": [
       "    Postal Code   Latitude  Longitude\n",
       "0           M1B  43.806686 -79.194353\n",
       "1           M1C  43.784535 -79.160497\n",
       "2           M1E  43.763573 -79.188711\n",
       "3           M1G  43.770992 -79.216917\n",
       "4           M1H  43.773136 -79.239476\n",
       "..          ...        ...        ...\n",
       "98          M9N  43.706876 -79.518188\n",
       "99          M9P  43.696319 -79.532242\n",
       "100         M9R  43.688905 -79.554724\n",
       "101         M9V  43.739416 -79.588437\n",
       "102         M9W  43.706748 -79.594054\n",
       "\n",
       "[103 rows x 3 columns]"
      ]
     },
     "execution_count": 137,
     "metadata": {},
     "output_type": "execute_result"
    }
   ],
   "source": [
    "#Reading Geocodes\n",
    "import pandas as pa\n",
    "GeoCodes = pa.read_csv(r\"C:\\Users\\wrigh\\Downloads\\Geospatial_Coordinates.csv\")\n",
    "GeoCodes"
   ]
  },
  {
   "cell_type": "code",
   "execution_count": 211,
   "metadata": {},
   "outputs": [],
   "source": [
    "df5 = pd.merge(PostalCodesCN3, GeoCodes)\n",
    "df5\n",
    "DataCanada = df5\n",
    "DataCanada['Latitude']= DataCanada['Latitude'].astype(float)\n",
    "DataCanada['Longitude']= DataCanada['Longitude'].astype(float)\n",
    "DataCanada.to_csv(\"C:\\\\Users\\\\wrigh\\\\Desktop\\\\Python for Data science\\\\DataCanada.csv\", index=False)\n"
   ]
  },
  {
   "cell_type": "code",
   "execution_count": null,
   "metadata": {},
   "outputs": [],
   "source": [
    "#Installing folium again\n",
    "!conda install -c conda-forge folium=0.5.0 --yes\n",
    "import folium # plotting library\n",
    "\n",
    "print('Folium installed')"
   ]
  },
  {
   "cell_type": "code",
   "execution_count": 180,
   "metadata": {},
   "outputs": [
    {
     "data": {
      "text/plain": [
       "Index(['Postal Code', 'Borough', 'Neighbourhood', 'Latitude', 'Longitude'], dtype='object')"
      ]
     },
     "execution_count": 180,
     "metadata": {},
     "output_type": "execute_result"
    }
   ],
   "source": [
    "neighborhoods = DataCanada\n",
    "neighborhoods.columns"
   ]
  },
  {
   "cell_type": "code",
   "execution_count": 164,
   "metadata": {},
   "outputs": [],
   "source": [
    "from geopy.geocoders import Nominatim "
   ]
  },
  {
   "cell_type": "code",
   "execution_count": 193,
   "metadata": {},
   "outputs": [
    {
     "name": "stdout",
     "output_type": "stream",
     "text": [
      "The geograpical coordinate of Toronto are 43.653963, -79.387207.\n"
     ]
    }
   ],
   "source": [
    "address = 'Toronto'\n",
    "geolocator = Nominatim(user_agent=\"Toronto\")\n",
    "location = geolocator.geocode(address)\n",
    "latitude = float(location.latitude)\n",
    "longitude = float(location.longitude)\n",
    "print('The geograpical coordinate of Toronto are {}, {}.'.format(latitude, longitude))"
   ]
  },
  {
   "cell_type": "code",
   "execution_count": 196,
   "metadata": {
    "scrolled": true
   },
   "outputs": [
    {
     "data": {
      "text/html": [
       "<div style=\"width:100%;\"><div style=\"position:relative;width:100%;height:0;padding-bottom:60%;\"><iframe src=\"data:text/html;charset=utf-8;base64,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\" style=\"position:absolute;width:100%;height:100%;left:0;top:0;border:none !important;\" allowfullscreen webkitallowfullscreen mozallowfullscreen></iframe></div></div>"
      ],
      "text/plain": [
       "<folium.folium.Map at 0x1e5beda9b88>"
      ]
     },
     "execution_count": 196,
     "metadata": {},
     "output_type": "execute_result"
    }
   ],
   "source": [
    "# create map of all codes using latitude and longitude values\n",
    "\n",
    "map_Toronto= folium.Map(location=[latitude, longitude], tiles = 'Stamen Terrain', zoom_start=10)\n",
    "\n",
    "# add markers to map\n",
    "for lat, lng, borough, neighborhood in zip(neighborhoods['Latitude'], neighborhoods['Longitude'], neighborhoods['Borough'], neighborhoods['Neighbourhood']):\n",
    "    label = '{}, {}'.format(neighborhood, borough)\n",
    "    label = folium.Popup(label, parse_html=True)\n",
    "    folium.CircleMarker(\n",
    "        [lat, lng],\n",
    "        radius=5,\n",
    "        popup=label,\n",
    "        color='blue',\n",
    "        fill=True,\n",
    "        fill_color='#3186cc',\n",
    "        fill_opacity=0.7,\n",
    "        parse_html=False).add_to(map_Toronto)  \n",
    "    \n",
    "map_Toronto"
   ]
  },
  {
   "cell_type": "code",
   "execution_count": null,
   "metadata": {},
   "outputs": [],
   "source": []
  },
  {
   "cell_type": "code",
   "execution_count": null,
   "metadata": {},
   "outputs": [],
   "source": []
  }
 ],
 "metadata": {
  "kernelspec": {
   "display_name": "Python 3",
   "language": "python",
   "name": "python3"
  },
  "language_info": {
   "codemirror_mode": {
    "name": "ipython",
    "version": 3
   },
   "file_extension": ".py",
   "mimetype": "text/x-python",
   "name": "python",
   "nbconvert_exporter": "python",
   "pygments_lexer": "ipython3",
   "version": "3.7.4"
  }
 },
 "nbformat": 4,
 "nbformat_minor": 2
}
